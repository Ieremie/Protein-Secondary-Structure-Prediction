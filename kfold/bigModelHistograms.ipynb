{
 "cells": [
  {
   "cell_type": "code",
   "execution_count": null,
   "metadata": {},
   "outputs": [],
   "source": [
    "import numpy as np\n",
    "import os\n",
    "from keras.models import load_model\n",
    "from sklearn.model_selection import KFold\n",
    "from time import time\n",
    "from timeit import default_timer as timer\n",
    "import pickle\n",
    "import gzip\n",
    "\n",
    "\n",
    "cwd = os.getcwd()  # Get the current working directory (cwd)\n",
    "files = os.listdir(cwd)  # Get all the files in that directory\n",
    "print(\"Files in %r: %s\" % (cwd, files))\n"
   ]
  },
  {
   "cell_type": "code",
   "execution_count": 13,
   "metadata": {},
   "outputs": [
    {
     "name": "stdout",
     "output_type": "stream",
     "text": [
      "(1133502, 19, 50)\n"
     ]
    }
   ],
   "source": [
    "f = gzip.GzipFile('all_dataset_window19Middle.npy.gz', \"r\")\n",
    "dataset = np.load(f)\n",
    "print(dataset.shape)"
   ]
  },
  {
   "cell_type": "code",
   "execution_count": 14,
   "metadata": {},
   "outputs": [
    {
     "name": "stdout",
     "output_type": "stream",
     "text": [
      "(1133502, 19, 50)\n",
      "[[1.         0.         0.         0.         0.         0.\n",
      "  0.         0.         0.         0.         0.         0.\n",
      "  0.         0.         0.         0.         0.         0.\n",
      "  0.         0.         0.         1.         0.         0.\n",
      "  0.         0.         0.         0.         0.         0.99043465\n",
      "  0.02297737 0.2158528  0.77729988 0.02412702 0.19309869 0.08706578\n",
      "  0.01964677 0.22270013 0.0511737  0.04148712 0.12346705 0.03768789\n",
      "  0.38936076 0.86875552 0.82200629 0.1665886  0.04565117 0.00364771\n",
      "  0.5        0.11204704]\n",
      " [0.         0.         0.         0.         0.         0.\n",
      "  0.         0.         0.         0.         1.         0.\n",
      "  0.         0.         0.         0.         0.         0.\n",
      "  0.         0.         0.         1.         0.         0.\n",
      "  0.         0.         0.         0.         0.         0.33403307\n",
      "  0.94479948 0.00151625 0.00482072 0.55477923 0.00196558 0.00910306\n",
      "  0.90114391 0.00436397 0.98507971 0.97916371 0.00477298 0.00290041\n",
      "  0.00776757 0.00423554 0.00928525 0.06416387 0.93761414 0.00753973\n",
      "  0.26894143 0.31864628]]\n"
     ]
    }
   ],
   "source": [
    "from sklearn.utils import shuffle\n",
    "dataset = shuffle(dataset, random_state=111)\n",
    "print(dataset.shape)\n",
    "print(dataset[0,:2,:])"
   ]
  },
  {
   "cell_type": "code",
   "execution_count": 40,
   "metadata": {},
   "outputs": [],
   "source": [
    "\n",
    "def get_models_output(path):\n",
    "\n",
    "    indices = pickle.load( open( path + \"/model_kfold_indexes\", \"rb\" ) )\n",
    "    n = dataset.shape[0]\n",
    "    hist = np.array([])\n",
    "    \n",
    "    for i in range(1,11):    \n",
    "        \n",
    "        \n",
    "        l = indices[i][0]\n",
    "        r = indices[i][1]\n",
    "        print(l, \" \", r)\n",
    "        m =  load_model( path + \"/model_kfold\" + str(i) + \".h5\")\n",
    "        res = m.predict(np.concatenate((dataset[0:l], dataset[r:n]), axis=0)[:,:,:21])\n",
    "        print(res.shape)\n",
    "        \n",
    "        hist = np.concatenate((hist, res.flatten()), axis=0 )\n",
    "        print(hist.shape)\n",
    "        \n",
    "    return hist    "
   ]
  },
  {
   "cell_type": "code",
   "execution_count": 41,
   "metadata": {},
   "outputs": [
    {
     "name": "stdout",
     "output_type": "stream",
     "text": [
      "0   113350\n",
      "(1020152, 8)\n",
      "(8161216,)\n",
      "113350   226700\n",
      "(1020152, 8)\n",
      "(16322432,)\n",
      "226700   340050\n",
      "(1020152, 8)\n",
      "(24483648,)\n",
      "340050   453400\n",
      "(1020152, 8)\n",
      "(32644864,)\n",
      "453400   566750\n",
      "(1020152, 8)\n",
      "(40806080,)\n",
      "566750   680100\n",
      "(1020152, 8)\n",
      "(48967296,)\n",
      "680100   793450\n",
      "(1020152, 8)\n",
      "(57128512,)\n",
      "793450   906800\n",
      "(1020152, 8)\n",
      "(65289728,)\n",
      "906800   1020150\n",
      "(1020152, 8)\n",
      "(73450944,)\n",
      "1020150   1133500\n",
      "(1020152, 8)\n",
      "(81612160,)\n"
     ]
    }
   ],
   "source": [
    "hist = get_models_output(\"kfold-1hotQ8\")"
   ]
  },
  {
   "cell_type": "code",
   "execution_count": 42,
   "metadata": {},
   "outputs": [
    {
     "name": "stdout",
     "output_type": "stream",
     "text": [
      "(81612160,)\n",
      "(1133502, 19, 50)\n"
     ]
    }
   ],
   "source": [
    "print(hist.shape)\n",
    "print(dataset.shape)"
   ]
  },
  {
   "cell_type": "code",
   "execution_count": 43,
   "metadata": {},
   "outputs": [],
   "source": [
    "import pickle\n",
    "with open('q8_histogram', 'wb') as file_pi:\n",
    "        pickle.dump(hist, file_pi)"
   ]
  },
  {
   "cell_type": "code",
   "execution_count": 39,
   "metadata": {},
   "outputs": [
    {
     "data": {
      "image/png": "[encoded data removed]",
      "text/plain": [
       "<Figure size 864x504 with 1 Axes>"
      ]
     },
     "metadata": {
      "needs_background": "light"
     },
     "output_type": "display_data"
    }
   ],
   "source": [
    "import matplotlib.pyplot as plt\n",
    "import seaborn as sns\n",
    "\n",
    "plt.figure(figsize=(12, 7))\n",
    "ax0 = plt.gca()\n",
    "\n",
    "# seaborn histogram\n",
    "sns.distplot(hist, hist=True, kde=False,  bins=int(180/2), color = 'blue', hist_kws={'edgecolor':'black'}, ax = ax0)\n",
    "\n",
    "\n",
    "ax0.set_ylabel(\"Frequency\", fontsize=16, labelpad=25, weight='bold')\n",
    "ax0.set_xlabel(\"Q8 output distribution\",  fontsize=16, weight='bold')\n",
    "\n",
    "\n",
    "ax0.tick_params(labelsize=13)\n",
    "\n",
    "plt.savefig(\"histogram\", bbox_inches = 'tight')"
   ]
  }
 ],
 "metadata": {
  "kernelspec": {
   "display_name": "tf-gpu",
   "language": "python",
   "name": "tf-gpu"
  },
  "language_info": {
   "codemirror_mode": {
    "name": "ipython",
    "version": 3
   },
   "file_extension": ".py",
   "mimetype": "text/x-python",
   "name": "python",
   "nbconvert_exporter": "python",
   "pygments_lexer": "ipython3",
   "version": "3.7.6"
  }
 },
 "nbformat": 4,
 "nbformat_minor": 4
}
