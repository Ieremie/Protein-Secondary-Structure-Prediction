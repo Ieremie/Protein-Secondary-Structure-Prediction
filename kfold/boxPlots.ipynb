{
 "cells": [
  {
   "cell_type": "code",
   "execution_count": 1,
   "metadata": {},
   "outputs": [
    {
     "name": "stderr",
     "output_type": "stream",
     "text": [
      "Using TensorFlow backend.\n"
     ]
    },
    {
     "name": "stdout",
     "output_type": "stream",
     "text": [
      "Files in 'C:\\\\Users\\\\Ieremie\\\\Documents\\\\Individual project\\\\secondSemester\\\\Personal-Project\\\\kfold': ['.ipynb_checkpoints', 'all_dataset_window19Middle.npy', 'all_dataset_window19Middle.npy.gz', 'all_dataset_window19MiddleQ2.npy.gz', 'all_dataset_window19MiddleQ3.npy.gz', 'all_dataset_window9LeftSideQ2.npy.gz', 'all_dataset_window9LeftSideQ3.npy.gz', 'all_dataset_window9LeftSideQ8.npy.gz', 'all_dataset_window9RightSideQ2.npy.gz', 'all_dataset_window9RightSideQ3.npy.gz', 'all_dataset_window9RightSideQ8.npy.gz', 'bigModelHistograms.ipynb', 'boxPlots.ipynb', 'cb513_window19Q2.npy.gz', 'cb513_window19Q3.npy.gz', 'cb513_window19Q8.npy.gz', 'kfold-1hot', 'kfold-1hotQ2', 'kfold-1hotQ3', 'kfold-1hotQ8', 'kfold-pssm', 'kfold-pssmQ2', 'kfold-pssmQ3', 'kfold-pssmQ8', 'kfold.ipynb', 'left-sideQ2', 'left-sideQ3', 'left-sideQ8', 'right-sideQ2', 'right-sideQ3']\n"
     ]
    }
   ],
   "source": [
    "import pickle \n",
    "import os\n",
    "import matplotlib.pyplot as plt\n",
    "import matplotlib.gridspec as gridspec\n",
    "import gzip\n",
    "import numpy as np\n",
    "from keras.models import load_model\n",
    "\n",
    "cwd = os.getcwd()  # Get the current working directory (cwd)\n",
    "files = os.listdir(cwd)  # Get all the files in that directory\n",
    "print(\"Files in %r: %s\" % (cwd, files))"
   ]
  },
  {
   "cell_type": "code",
   "execution_count": 2,
   "metadata": {},
   "outputs": [
    {
     "name": "stdout",
     "output_type": "stream",
     "text": [
      "(80119, 19, 50)\n"
     ]
    }
   ],
   "source": [
    "f = gzip.GzipFile('cb513_window19Q8.npy.gz', \"r\")\n",
    "testset = np.load(f)\n",
    "print(testset.shape)"
   ]
  },
  {
   "cell_type": "code",
   "execution_count": 3,
   "metadata": {},
   "outputs": [],
   "source": [
    "def get_test_accuracy(path):\n",
    "    \n",
    "    test = []\n",
    "    classSize = 8\n",
    "    for i in range(1,11):    \n",
    "        m =  load_model( path + \"/model_kfold\" + str(i) + \".h5\")\n",
    "        print(i)\n",
    "        res = m.evaluate(testset[:,:,21+classSize:], testset[:, 0, 21 : (21+classSize)])[1]\n",
    "        test.append(res)\n",
    "        \n",
    "    return test    "
   ]
  },
  {
   "cell_type": "code",
   "execution_count": 4,
   "metadata": {},
   "outputs": [
    {
     "ename": "FileNotFoundError",
     "evalue": "[Errno 2] No such file or directory: 'right-sideQ/model_scores_kfold1'",
     "output_type": "error",
     "traceback": [
      "\u001b[1;31m---------------------------------------------------------------------------\u001b[0m",
      "\u001b[1;31mFileNotFoundError\u001b[0m                         Traceback (most recent call last)",
      "\u001b[1;32m<ipython-input-4-db49af0af22a>\u001b[0m in \u001b[0;36m<module>\u001b[1;34m\u001b[0m\n\u001b[0;32m      6\u001b[0m \u001b[1;33m\u001b[0m\u001b[0m\n\u001b[0;32m      7\u001b[0m \u001b[1;32mfor\u001b[0m \u001b[0mi\u001b[0m \u001b[1;32min\u001b[0m \u001b[0mrange\u001b[0m\u001b[1;33m(\u001b[0m\u001b[1;36m1\u001b[0m\u001b[1;33m,\u001b[0m\u001b[1;36m11\u001b[0m\u001b[1;33m)\u001b[0m\u001b[1;33m:\u001b[0m\u001b[1;33m\u001b[0m\u001b[1;33m\u001b[0m\u001b[0m\n\u001b[1;32m----> 8\u001b[1;33m     \u001b[0mm1s\u001b[0m \u001b[1;33m=\u001b[0m \u001b[0mpickle\u001b[0m\u001b[1;33m.\u001b[0m\u001b[0mload\u001b[0m\u001b[1;33m(\u001b[0m \u001b[0mopen\u001b[0m\u001b[1;33m(\u001b[0m \u001b[1;34m\"right-sideQ/model_scores_kfold\"\u001b[0m \u001b[1;33m+\u001b[0m \u001b[0mstr\u001b[0m\u001b[1;33m(\u001b[0m\u001b[0mi\u001b[0m\u001b[1;33m)\u001b[0m\u001b[1;33m,\u001b[0m \u001b[1;34m\"rb\"\u001b[0m \u001b[1;33m)\u001b[0m \u001b[1;33m)\u001b[0m\u001b[1;33m\u001b[0m\u001b[1;33m\u001b[0m\u001b[0m\n\u001b[0m\u001b[0;32m      9\u001b[0m     \u001b[0mleft\u001b[0m\u001b[1;33m.\u001b[0m\u001b[0mappend\u001b[0m\u001b[1;33m(\u001b[0m\u001b[0mm1s\u001b[0m\u001b[1;33m[\u001b[0m\u001b[1;36m1\u001b[0m\u001b[1;33m]\u001b[0m\u001b[1;33m)\u001b[0m\u001b[1;33m\u001b[0m\u001b[1;33m\u001b[0m\u001b[0m\n\u001b[0;32m     10\u001b[0m     \u001b[0mm2s\u001b[0m \u001b[1;33m=\u001b[0m \u001b[0mpickle\u001b[0m\u001b[1;33m.\u001b[0m\u001b[0mload\u001b[0m\u001b[1;33m(\u001b[0m \u001b[0mopen\u001b[0m\u001b[1;33m(\u001b[0m \u001b[1;34m\"left-sideQ8/model_scores_kfold\"\u001b[0m \u001b[1;33m+\u001b[0m \u001b[0mstr\u001b[0m\u001b[1;33m(\u001b[0m\u001b[0mi\u001b[0m\u001b[1;33m)\u001b[0m\u001b[1;33m,\u001b[0m \u001b[1;34m\"rb\"\u001b[0m \u001b[1;33m)\u001b[0m \u001b[1;33m)\u001b[0m\u001b[1;33m\u001b[0m\u001b[1;33m\u001b[0m\u001b[0m\n",
      "\u001b[1;31mFileNotFoundError\u001b[0m: [Errno 2] No such file or directory: 'right-sideQ/model_scores_kfold1'"
     ]
    }
   ],
   "source": [
    "import seaborn as sns\n",
    "\n",
    "\n",
    "left = []\n",
    "right = []\n",
    "\n",
    "for i in range(1,11):\n",
    "    m1s = pickle.load( open( \"right-sideQ/model_scores_kfold\" + str(i), \"rb\" ) )\n",
    "    left.append(m1s[1])\n",
    "    m2s = pickle.load( open( \"left-sideQ8/model_scores_kfold\" + str(i), \"rb\" ) )\n",
    "    right.append(m2s[1])\n",
    "\n",
    "fig = plt.figure()\n",
    "fig.set_size_inches(7,10)\n",
    "gs = gridspec.GridSpec(1, 2, wspace=0.4, width_ratios=[1,1])\n",
    "ax0 = fig.add_subplot(gs[0])\n",
    "ax1 = fig.add_subplot(gs[1])\n",
    "\n",
    "ax0.set_ylabel(\"Q8 Accuracy\", fontsize=18, labelpad=25, weight='bold')\n",
    "ax0.set_xlabel(\"Right side\",  fontsize=16, weight='bold')\n",
    "ax1.set_xlabel(\"Left \",  fontsize=16, weight='bold')\n",
    "\n",
    "ax0.tick_params(labelsize=13)\n",
    "ax1.tick_params(labelsize=13)\n",
    "\n",
    "sns.set(style=\"darkgrid\")\n",
    "sns.boxplot(y = left, orient=\"v\",linewidth=4,palette=\"Blues\", width=0.4, ax = ax0)\n",
    "sns.boxplot(y = right, orient=\"v\",linewidth=4,palette=\"Blues\", width=0.4, ax = ax1)\n",
    "\n",
    "#sns.swarmplot(y = oneHotQ8, color=\"g\", ax = ax0)\n"
   ]
  },
  {
   "cell_type": "code",
   "execution_count": null,
   "metadata": {},
   "outputs": [],
   "source": [
    "hotT  = \"kfold-1hotQ8\"\n",
    "pssmT = \"kfold-pssmQ8\" \n",
    "testH = get_test_accuracy(hotT)\n",
    "testP = get_test_accuracy(pssmT)"
   ]
  },
  {
   "cell_type": "code",
   "execution_count": 35,
   "metadata": {},
   "outputs": [
    {
     "data": {
      "text/plain": [
       "<matplotlib.axes._subplots.AxesSubplot at 0x25d04069188>"
      ]
     },
     "execution_count": 35,
     "metadata": {},
     "output_type": "execute_result"
    },
    {
     "data": {
      "image/png": "[encoded data removed]",
      "text/plain": [
       "<Figure size 504x720 with 2 Axes>"
      ]
     },
     "metadata": {},
     "output_type": "display_data"
    }
   ],
   "source": [
    "import seaborn as sns\n",
    "\n",
    "\n",
    "hot = []\n",
    "pssm = []\n",
    "\n",
    "for i in range(1,11):\n",
    "    \n",
    "    m1s = pickle.load( open( \"kfold-1hotQ8/model_scores_kfold\" + str(i), \"rb\" ) )\n",
    "    hot.append(m1s[1])\n",
    "    m2s = pickle.load( open( \"kfold-pssmQ8/model_scores_kfold\" + str(i), \"rb\" ) )\n",
    "    pssm.append(m2s[1])    \n",
    "\n",
    "fig = plt.figure()\n",
    "fig.set_size_inches(7,10)\n",
    "gs = gridspec.GridSpec(1, 2, wspace=0.4, width_ratios=[1,1])\n",
    "ax0 = fig.add_subplot(gs[0])\n",
    "ax1 = fig.add_subplot(gs[1])\n",
    "\n",
    "ax0.tick_params(labelsize=13)\n",
    "ax1.tick_params(labelsize=13)\n",
    "\n",
    "ax0.set_ylabel(\"Q3  Accuracy\", fontsize=18, labelpad=25, weight='bold')\n",
    "ax0.set_xlabel(\"1 HOT encoding\",  fontsize=16, weight='bold')\n",
    "\n",
    "ax1.set_xlabel(\"PSSM encoding\",  fontsize=16, weight='bold')\n",
    "\n",
    "\n",
    "\n",
    "sns.set(style=\"darkgrid\")\n",
    "sns.boxplot(y = hot, orient=\"v\",linewidth=4,palette=\"Blues\", width=0.4, ax = ax0)\n",
    "sns.boxplot(y = pssm, orient=\"v\",linewidth=4,palette=\"Blues\", width=0.4, ax = ax1)\n",
    "\n",
    "#ax0.plot(0.01, np.average(testP) ,marker='v', color='r', ls='-',markersize=10)\n"
   ]
  },
  {
   "cell_type": "code",
   "execution_count": 16,
   "metadata": {},
   "outputs": [
    {
     "name": "stdout",
     "output_type": "stream",
     "text": [
      "[0.6673448085784912, 0.6732610464096069, 0.6741971373558044, 0.6759195923805237, 0.6705525517463684, 0.6726993322372437, 0.6712515354156494, 0.6752081513404846, 0.6722500324249268, 0.6656598448753357]\n"
     ]
    }
   ],
   "source": []
  },
  {
   "cell_type": "code",
   "execution_count": null,
   "metadata": {},
   "outputs": [],
   "source": []
  },
  {
   "cell_type": "code",
   "execution_count": null,
   "metadata": {},
   "outputs": [],
   "source": []
  }
 ],
 "metadata": {
  "kernelspec": {
   "display_name": "tf-gpu",
   "language": "python",
   "name": "tf-gpu"
  },
  "language_info": {
   "codemirror_mode": {
    "name": "ipython",
    "version": 3
   },
   "file_extension": ".py",
   "mimetype": "text/x-python",
   "name": "python",
   "nbconvert_exporter": "python",
   "pygments_lexer": "ipython3",
   "version": "3.7.6"
  }
 },
 "nbformat": 4,
 "nbformat_minor": 4
}
