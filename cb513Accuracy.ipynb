{
 "cells": [
  {
   "cell_type": "code",
   "execution_count": 20,
   "metadata": {},
   "outputs": [],
   "source": [
    "import numpy as np\n",
    "import gzip\n",
    "import theano\n",
    "from keras.models import load_model\n",
    "import tensorflow as tf"
   ]
  },
  {
   "cell_type": "code",
   "execution_count": 21,
   "metadata": {},
   "outputs": [],
   "source": [
    "def get_test():\n",
    "    \n",
    "    f = open('datasetTranskay/cb513+profile_split1.npy.gz', 'rb')\n",
    "    cb513 = np.load(f)\n",
    "    cb513 = np.reshape(cb513, (514, 700, 57))\n",
    "    cb513 = cb513[:, :, :].astype(theano.config.floatX)\n",
    "\n",
    "    return cb513"
   ]
  },
  {
   "cell_type": "code",
   "execution_count": 22,
   "metadata": {},
   "outputs": [],
   "source": [
    "cb513 = get_test()"
   ]
  },
  {
   "cell_type": "code",
   "execution_count": null,
   "metadata": {},
   "outputs": [],
   "source": [
    "for i in range(700):\n",
    "    print(cb513[0,i,0:21])\n",
    "    print(cb513[0,i,22:30])\n",
    "    if(cb513[0,i,0:21].sum() == 0):\n",
    "        print(i)\n",
    "    if(cb513[0,i,22:30].sum() == 0):\n",
    "        print(i)        "
   ]
  },
  {
   "cell_type": "code",
   "execution_count": 26,
   "metadata": {},
   "outputs": [],
   "source": [
    "path = \"model-assmebly-1.hdf5\"\n",
    "m = load_model( path )"
   ]
  },
  {
   "cell_type": "code",
   "execution_count": 27,
   "metadata": {},
   "outputs": [
    {
     "name": "stdout",
     "output_type": "stream",
     "text": [
      "84765/84765 [==============================] - 59s 701us/step\n",
      "Loss: 0.8808585369941345, Accuracy: 0.7006547451019287, MAE: 0.09245184063911438\n"
     ]
    }
   ],
   "source": [
    "from IPython.display import clear_output\n",
    "import random\n",
    "\n",
    "allValidWindows = []\n",
    "all_targets = []\n",
    "\n",
    "for i in range(cb513.shape[0]):\n",
    "    \n",
    "    print(\"protein nr \" ,i)\n",
    "    clear_output(wait=True)\n",
    "    \n",
    "    lastIndex = 700\n",
    "    #ground truth\n",
    "    for k in range(700):\n",
    "        ground_truth = cb513[i,k,22:30]\n",
    "        if(ground_truth.sum() == 0):\n",
    "            lastIndex = k\n",
    "            break\n",
    "        all_targets.append(ground_truth)\n",
    "\n",
    "    #creating padding version so we do not loose information\n",
    "    padded = np.zeros((700+18, 57))\n",
    "    padded[9:709] = cb513[i]\n",
    "    \n",
    "    for k in range(9):\n",
    "        #padded[8-k] = cb513[i, lastIndex - 1 - k]\n",
    "        padded[k] = cb513[i,0]#cb513[i,random.randint(0, lastIndex - 1)]#  #0# #\n",
    "    \n",
    "    nexta = 0\n",
    "    for k in range(lastIndex + 9 , lastIndex + 9 + 9):\n",
    "        #padded[k] = 0# cb513[i, 0 + nexta]\n",
    "        nexta += 1\n",
    "        padded[k] = 0#cb513[i,random.randint(0, lastIndex - 1)]#cb513[i,lastIndex - 1]##\n",
    "        \n",
    "    \n",
    "    #making predictions\n",
    "    predictions = []\n",
    "    for k in range(718 - 19 + 1):\n",
    "\n",
    "        if cb513[i,k,0:21].sum() == 0:\n",
    "            break\n",
    "        #make sure to check PSSM or 1 hot\n",
    "        window =  padded[k:k+19, 35:56]\n",
    "        allValidWindows.append(window)\n",
    "    \n",
    "scores = m.evaluate(np.array(allValidWindows), np.array(all_targets))\n",
    "print(\"Loss: \" + str(scores[0]) + \", Accuracy: \" + str(scores[1]) + \", MAE: \" + str(scores[2]))"
   ]
  },
  {
   "cell_type": "code",
   "execution_count": null,
   "metadata": {},
   "outputs": [],
   "source": [
    "for i in range(718):\n",
    "  \n",
    "    if i<9:\n",
    "        print(padded[i,0:21])\n",
    "    \n",
    "    if i >= 9 and i <= 708:\n",
    "        print(padded[i,0:21].all() == cb513[0,i-9,0:21].all())\n",
    "    \n",
    "    if i > 708:\n",
    "        print(padded[i,0:21])"
   ]
  },
  {
   "cell_type": "code",
   "execution_count": 90,
   "metadata": {},
   "outputs": [
    {
     "name": "stdout",
     "output_type": "stream",
     "text": [
      "67\n"
     ]
    }
   ],
   "source": [
    "print(len(allValidWindows))"
   ]
  },
  {
   "cell_type": "code",
   "execution_count": 96,
   "metadata": {},
   "outputs": [],
   "source": [
    "x = np.array(allValidWindows)"
   ]
  },
  {
   "cell_type": "code",
   "execution_count": 116,
   "metadata": {},
   "outputs": [
    {
     "name": "stdout",
     "output_type": "stream",
     "text": [
      "0.9950823758206397\n",
      "0.06660803557509065\n",
      "0.05315113639806372\n",
      "0.061226162819907996\n",
      "0.0316762283790564\n",
      "0.4675456936126812\n",
      "0.10065209356410687\n",
      "0.14430313409051873\n",
      "0.20424030228409176\n",
      "0.2141650169574414\n",
      "0.08317269649392238\n",
      "0.34751053780725555\n",
      "0.6615031592029524\n",
      "0.960456220449047\n",
      "0.35663485430559827\n",
      "0.09195454993100434\n",
      "0.43045377606077095\n",
      "0.07585818002124355\n",
      "0.08948005933356144\n"
     ]
    }
   ],
   "source": [
    "for i in range(19):\n",
    "    print(x[0][i][0])"
   ]
  },
  {
   "cell_type": "code",
   "execution_count": 117,
   "metadata": {},
   "outputs": [
    {
     "name": "stdout",
     "output_type": "stream",
     "text": [
      "0.08948005933356144\n",
      "0.9950823758206397\n",
      "0.06660803557509065\n",
      "0.05315113639806372\n",
      "0.061226162819907996\n",
      "0.0316762283790564\n",
      "0.4675456936126812\n",
      "0.10065209356410687\n",
      "0.14430313409051873\n",
      "0.20424030228409176\n",
      "0.2141650169574414\n",
      "0.08317269649392238\n",
      "0.34751053780725555\n",
      "0.6615031592029524\n",
      "0.960456220449047\n",
      "0.35663485430559827\n",
      "0.09195454993100434\n",
      "0.43045377606077095\n",
      "0.07585818002124355\n"
     ]
    }
   ],
   "source": [
    "for i in range(19):\n",
    "    print(x[66][i][0])"
   ]
  },
  {
   "cell_type": "code",
   "execution_count": null,
   "metadata": {},
   "outputs": [],
   "source": []
  }
 ],
 "metadata": {
  "kernelspec": {
   "display_name": "tf-gpu",
   "language": "python",
   "name": "tf-gpu"
  },
  "language_info": {
   "codemirror_mode": {
    "name": "ipython",
    "version": 3
   },
   "file_extension": ".py",
   "mimetype": "text/x-python",
   "name": "python",
   "nbconvert_exporter": "python",
   "pygments_lexer": "ipython3",
   "version": "3.7.6"
  }
 },
 "nbformat": 4,
 "nbformat_minor": 4
}
