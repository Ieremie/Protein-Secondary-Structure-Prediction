{
 "cells": [
  {
   "cell_type": "code",
   "execution_count": 33,
   "metadata": {},
   "outputs": [],
   "source": [
    "import numpy as np\n",
    "import gzip\n",
    "import theano\n",
    "from keras.models import load_model\n",
    "from keras.models import Model\n",
    "import tensorflow as tf"
   ]
  },
  {
   "cell_type": "code",
   "execution_count": 34,
   "metadata": {},
   "outputs": [],
   "source": [
    "def get_test():\n",
    "    \n",
    "    f = open('datasetTranskay/cb513+profile_split1.npy.gz', 'rb')\n",
    "    cb513 = np.load(f)\n",
    "    cb513 = np.reshape(cb513, (514, 700, 57))\n",
    "    cb513 = cb513[:, :, :].astype(theano.config.floatX)\n",
    "\n",
    "    return cb513"
   ]
  },
  {
   "cell_type": "code",
   "execution_count": 35,
   "metadata": {},
   "outputs": [],
   "source": [
    "cb513 = get_test()"
   ]
  },
  {
   "cell_type": "code",
   "execution_count": null,
   "metadata": {},
   "outputs": [],
   "source": [
    "for i in range(700):\n",
    "    print(cb513[0,i,0:21])\n",
    "    print(cb513[0,i,22:30])\n",
    "    if(cb513[0,i,0:21].sum() == 0):\n",
    "        print(i)\n",
    "    if(cb513[0,i,22:30].sum() == 0):\n",
    "        print(i)        "
   ]
  },
  {
   "cell_type": "code",
   "execution_count": null,
   "metadata": {},
   "outputs": [],
   "source": [
    "path = \"allDataset_assembly/model-assembly-all-30epochs-0.hdf5\"\n",
    "m = load_model( path )"
   ]
  },
  {
   "cell_type": "code",
   "execution_count": 15,
   "metadata": {},
   "outputs": [
    {
     "name": "stdout",
     "output_type": "stream",
     "text": [
      "protein nr  513\n"
     ]
    }
   ],
   "source": [
    "from IPython.display import clear_output\n",
    "import random\n",
    "\n",
    "allValidWindows = []\n",
    "all_targets = []\n",
    "\n",
    "for i in range(cb513.shape[0]):\n",
    "    \n",
    "    print(\"protein nr \" ,i)\n",
    "    clear_output(wait=True)\n",
    "    \n",
    "    lastIndex = 700\n",
    "    #ground truth\n",
    "    for k in range(700):\n",
    "        ground_truth = cb513[i,k,22:30]\n",
    "        if(ground_truth.sum() == 0):\n",
    "            lastIndex = k\n",
    "            break\n",
    "        all_targets.append(ground_truth)\n",
    "\n",
    "    #creating padding version so we do not loose information\n",
    "    padded = np.zeros((700+18, 57))\n",
    "    padded[9:709] = cb513[i]\n",
    "    \n",
    "    for k in range(9):\n",
    "        #padded[8-k] = cb513[i, lastIndex - 1 - k]\n",
    "        padded[k] = cb513[i,0]#cb513[i,random.randint(0, lastIndex - 1)]#  #0# #\n",
    "    \n",
    "    nexta = 0\n",
    "    for k in range(lastIndex + 9 , lastIndex + 9 + 9):\n",
    "        #padded[k] = 0# cb513[i, 0 + nexta]\n",
    "        nexta += 1\n",
    "        padded[k] = 0#cb513[i,random.randint(0, lastIndex - 1)]#cb513[i,lastIndex - 1]##\n",
    "        \n",
    "    \n",
    "    #making predictions\n",
    "    predictions = []\n",
    "    for k in range(718 - 19 + 1):\n",
    "\n",
    "        if cb513[i,k,0:21].sum() == 0:\n",
    "            break\n",
    "        #make sure to check PSSM or 1 hot\n",
    "        window =  padded[k:k+19, 35:56]\n",
    "        allValidWindows.append(window)"
   ]
  },
  {
   "cell_type": "code",
   "execution_count": null,
   "metadata": {},
   "outputs": [],
   "source": [
    "scores = m.evaluate(np.array(allValidWindows), np.array(all_targets))\n",
    "print(\"Loss: \" + str(scores[0]) + \", Accuracy: \" + str(scores[1]) + \", MAE: \" + str(scores[2]))"
   ]
  },
  {
   "cell_type": "code",
   "execution_count": 16,
   "metadata": {},
   "outputs": [],
   "source": [
    "from sklearn.metrics import accuracy_score\n",
    "def get_accuracy(all_targets, all_pred ):\n",
    "    \n",
    "    all_targets = np.array(all_targets)\n",
    "\n",
    "    final_pred = []\n",
    "    final_target = []\n",
    "    for i in range(len(allValidWindows)):\n",
    "        final_pred.append( np.argmax(all_pred[i]))\n",
    "        final_target.append( np.argmax(all_targets[i]))\n",
    "        \n",
    "    res = accuracy_score(final_pred, np.array(final_target))     \n",
    "    print(res)\n",
    "    return res"
   ]
  },
  {
   "cell_type": "code",
   "execution_count": 17,
   "metadata": {},
   "outputs": [],
   "source": [
    "def sum_predictions(window_preds):\n",
    "    return sum(window_preds, 0)\n",
    "def average_predictions(window_preds):\n",
    "    return np.average(window_preds, 0)\n",
    "def max_predictions(window_preds):\n",
    "    return np.max(window_preds, 0)"
   ]
  },
  {
   "cell_type": "code",
   "execution_count": 19,
   "metadata": {},
   "outputs": [
    {
     "name": "stdout",
     "output_type": "stream",
     "text": [
      "model  0\n",
      "84765/84765 [==============================] - 51s 606us/step\n",
      "0.6998997227629328\n",
      "model  1\n",
      "84765/84765 [==============================] - 54s 642us/step\n",
      "0.7006547513714387\n",
      "model  2\n",
      "84765/84765 [==============================] - 76s 898us/step\n",
      "0.7006547513714387\n",
      "model  3\n",
      "84765/84765 [==============================] - 79s 934us/step\n",
      "0.6999351147289565\n",
      "model  4\n",
      "84765/84765 [==============================] - 76s 891us/step\n",
      "0.699628384356751\n",
      "model  5\n",
      "84765/84765 [==============================] - 79s 931us/step\n",
      "0.6996637763227748\n",
      "model  6\n",
      "84765/84765 [==============================] - 73s 863us/step\n",
      "0.6991800861204507\n",
      "model  7\n",
      "84765/84765 [==============================] - 67s 792us/step\n",
      "0.6993452486285613\n",
      "model  8\n",
      "84765/84765 [==============================] - 69s 809us/step\n",
      "0.6990503155783637\n",
      "model  9\n",
      "84765/84765 [==============================] - 74s 872us/step\n",
      "0.6989323423582847\n",
      "model  10\n",
      "84765/84765 [==============================] - 72s 844us/step\n",
      "0.6983542735798973\n",
      "model  11\n",
      "84765/84765 [==============================] - 71s 835us/step\n",
      "0.6988733557482452\n",
      "model  0\n",
      "84765/84765 [==============================] - 68s 802us/step\n",
      "0.6992272754084823\n",
      "model  1\n",
      "84765/84765 [==============================] - 69s 810us/step\n",
      "0.6987317878841502\n",
      "model  2\n",
      "84765/84765 [==============================] - 69s 808us/step\n",
      "0.7000412906270277\n",
      "model  3\n",
      "84765/84765 [==============================] - 69s 817us/step\n",
      "0.6996637763227748\n"
     ]
    }
   ],
   "source": [
    "## model assembly cb513 accuracy\n",
    "def get_stacked_predictions(allValidWindows, nr_models):\n",
    "    \n",
    "    stacked_predictions = []\n",
    "    \n",
    "    for i in range (nr_models):\n",
    "    \n",
    "        path = 'allDataset_assembly/model-assmebly-' + str(i) + '.hdf5'\n",
    "        m = load_model( path )\n",
    "        print(\"model \" , i)\n",
    "        predictions  = m.predict(allValidWindows, verbose = 1)\n",
    "        acc = get_accuracy(all_targets, np.array(predictions) )\n",
    "        stacked_predictions.append(predictions)\n",
    "    \n",
    "    for i in range (4):\n",
    "    \n",
    "        path = 'allDataset_assembly/model-assembly-all-75epochs-' + str(i) + '.hdf5'\n",
    "        m = load_model( path )\n",
    "        print(\"model \" , i)\n",
    "        predictions  = m.predict(allValidWindows, verbose = 1)\n",
    "        acc = get_accuracy(all_targets, np.array(predictions) )\n",
    "        stacked_predictions.append(predictions)\n",
    "    \n",
    "     \n",
    "    return np.array(stacked_predictions)\n",
    "\n",
    "nr_models = 12\n",
    "allValidWindows = np.array(allValidWindows)\n",
    "stacked_predictions = get_stacked_predictions(allValidWindows, nr_models)"
   ]
  },
  {
   "cell_type": "code",
   "execution_count": 20,
   "metadata": {},
   "outputs": [
    {
     "name": "stdout",
     "output_type": "stream",
     "text": [
      "now in func\n",
      "window nr  84764\n"
     ]
    }
   ],
   "source": [
    "assembly_pred = []    \n",
    "for i in range(allValidWindows.shape[0]):\n",
    "\n",
    "    print(\"now in func\")\n",
    "    print(\"window nr \" ,i)\n",
    "    clear_output(wait=True)\n",
    "    \n",
    "    window_preds = stacked_predictions[:,i]\n",
    "    window_pred = average_predictions(window_preds)\n",
    "    assembly_pred.append(window_pred)\n",
    "    \n",
    "assembly_pred = np.array(assembly_pred)    "
   ]
  },
  {
   "cell_type": "code",
   "execution_count": 21,
   "metadata": {},
   "outputs": [
    {
     "name": "stdout",
     "output_type": "stream",
     "text": [
      "(16, 84765, 8)\n",
      "0.7095027428773668\n"
     ]
    }
   ],
   "source": [
    "print(stacked_predictions.shape)\n",
    "acc = get_accuracy(all_targets, assembly_pred )"
   ]
  },
  {
   "cell_type": "code",
   "execution_count": null,
   "metadata": {},
   "outputs": [],
   "source": [
    "# 0.707756739220197 - 4 models all dataset - average\n",
    "# 0.7093021884032324 - 12 models all dataset - average\n",
    "# 0.7042883265498732 - 2 models all dataset - average\n",
    "# 0.7093729723352798 - 16 models all dataset - average - with 30 epochs\n",
    "# 0.7095027428773668 - 16 models all dataset - average - with 75 epochs\n",
    "\n",
    "#0.707391022237952 -  15 models with valid split\n",
    "# 0.7066949802394856 - 4 models with valid split\n",
    "\n",
    "\n",
    "#0.7091842151831534 all 24"
   ]
  },
  {
   "cell_type": "code",
   "execution_count": 29,
   "metadata": {},
   "outputs": [
    {
     "name": "stdout",
     "output_type": "stream",
     "text": [
      "43   0.6996637763178525\n"
     ]
    },
    {
     "data": {
      "text/plain": [
       "[<matplotlib.lines.Line2D at 0x26afe2a73c8>]"
      ]
     },
     "execution_count": 29,
     "metadata": {},
     "output_type": "execute_result"
    },
    {
     "data": {
      "image/png": "[encoded data removed]",
      "text/plain": [
       "<Figure size 432x288 with 1 Axes>"
      ]
     },
     "metadata": {
      "needs_background": "light"
     },
     "output_type": "display_data"
    }
   ],
   "source": [
    "import matplotlib.pyplot as plt\n",
    "import pickle\n",
    "\n",
    "m1H1 = pickle.load( open( \"allDataset_assembly/model-assembly-all-hist-75epochs-3\", \"rb\" ) )\n",
    "# Plot training & validation accuracy values\n",
    "\n",
    "\n",
    "a = np.array(m1H1['val_acc'])\n",
    "inde = np.argmax(a)\n",
    "x = m1H1['val_acc'][inde]\n",
    "print(inde, \" \", x)\n",
    "\n",
    "\n",
    "plt.plot(m1H1['acc'])\n",
    "plt.plot(m1H1['val_acc'])\n"
   ]
  },
  {
   "cell_type": "code",
   "execution_count": 24,
   "metadata": {},
   "outputs": [
    {
     "data": {
      "text/plain": [
       "[<matplotlib.lines.Line2D at 0x26afd0a3348>]"
      ]
     },
     "execution_count": 24,
     "metadata": {},
     "output_type": "execute_result"
    },
    {
     "data": {
      "image/png": "[encoded data removed]",
      "text/plain": [
       "<Figure size 432x288 with 1 Axes>"
      ]
     },
     "metadata": {
      "needs_background": "light"
     },
     "output_type": "display_data"
    }
   ],
   "source": [
    "plt.plot(m1H1['loss'])\n",
    "plt.plot(m1H1['val_loss'])"
   ]
  },
  {
   "cell_type": "code",
   "execution_count": 111,
   "metadata": {},
   "outputs": [
    {
     "name": "stdout",
     "output_type": "stream",
     "text": [
      "30.0\n"
     ]
    },
    {
     "data": {
      "image/png": "[encoded data removed]",
      "text/plain": [
       "<Figure size 720x1080 with 1 Axes>"
      ]
     },
     "metadata": {},
     "output_type": "display_data"
    }
   ],
   "source": [
    "import matplotlib.pyplot as plt\n",
    "\n",
    "\n",
    "sizes = np.zeros(8)\n",
    "for i in range(cb513.shape[0]):\n",
    "    for j in range(cb513.shape[1]):\n",
    "        if cb513[i,j,22:30].sum() != 0:\n",
    "            index = cb513[i,j,22:30].argmax()\n",
    "            sizes[index] += 1\n",
    "        \n",
    "print(sizes[4])\n",
    "# Pie chart, where the slices will be ordered and plotted counter-clockwise:\n",
    "labels = 'L', 'B', 'E', 'G', 'I', 'H', 'S', 'T'\n",
    "explode = (0.1, 0.1, 0.1, 0.1, 0.3, 0.1,0.1, 0.1)  # only \"explode\" the 2nd slice (i.e. 'Hogs')\n",
    "\n",
    "fig1, ax1 = plt.subplots()\n",
    "fig1.set_size_inches(10,15)\n",
    "ax1.pie(sizes, explode=explode, labels=labels, autopct='%1.2f%%', startangle=90, pctdistance  = 0.7, textprops={'fontsize': 17})\n",
    "\n",
    "plt.legend()\n",
    "\n",
    "plt.savefig(\"cb513pie\", bbox_inches = 'tight',\n",
    "    pad_inches = 0)\n",
    "plt.show()"
   ]
  },
  {
   "cell_type": "code",
   "execution_count": null,
   "metadata": {},
   "outputs": [],
   "source": []
  }
 ],
 "metadata": {
  "kernelspec": {
   "display_name": "tf-gpu",
   "language": "python",
   "name": "tf-gpu"
  },
  "language_info": {
   "codemirror_mode": {
    "name": "ipython",
    "version": 3
   },
   "file_extension": ".py",
   "mimetype": "text/x-python",
   "name": "python",
   "nbconvert_exporter": "python",
   "pygments_lexer": "ipython3",
   "version": "3.7.6"
  }
 },
 "nbformat": 4,
 "nbformat_minor": 4
}
