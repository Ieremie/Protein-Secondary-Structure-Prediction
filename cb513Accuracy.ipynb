{
 "cells": [
  {
   "cell_type": "code",
   "execution_count": 16,
   "metadata": {},
   "outputs": [],
   "source": [
    "import numpy as np\n",
    "import gzip\n",
    "import theano\n",
    "from keras.models import load_model\n",
    "from keras.models import Model\n",
    "import tensorflow as tf\n",
    "\n",
    "import matplotlib.pyplot as plt\n",
    "import pickle"
   ]
  },
  {
   "cell_type": "code",
   "execution_count": 17,
   "metadata": {},
   "outputs": [],
   "source": [
    "def get_test():\n",
    "    \n",
    "    f = open('datasetTranskay/cb513+profile_split1.npy.gz', 'rb')\n",
    "    cb513 = np.load(f)\n",
    "    cb513 = np.reshape(cb513, (514, 700, 57))\n",
    "    cb513 = cb513[:, :, :].astype(theano.config.floatX)\n",
    "\n",
    "    return cb513"
   ]
  },
  {
   "cell_type": "code",
   "execution_count": 18,
   "metadata": {},
   "outputs": [],
   "source": [
    "cb513 = get_test()"
   ]
  },
  {
   "cell_type": "code",
   "execution_count": 4,
   "metadata": {},
   "outputs": [
    {
     "name": "stdout",
     "output_type": "stream",
     "text": [
      "WARNING:tensorflow:Large dropout rate: 0.6 (>0.5). In TensorFlow 2.x, dropout() uses dropout rate instead of keep_prob. Please ensure that this is intended.\n",
      "WARNING:tensorflow:Large dropout rate: 0.6 (>0.5). In TensorFlow 2.x, dropout() uses dropout rate instead of keep_prob. Please ensure that this is intended.\n",
      "WARNING:tensorflow:Large dropout rate: 0.6 (>0.5). In TensorFlow 2.x, dropout() uses dropout rate instead of keep_prob. Please ensure that this is intended.\n",
      "WARNING:tensorflow:Large dropout rate: 0.6 (>0.5). In TensorFlow 2.x, dropout() uses dropout rate instead of keep_prob. Please ensure that this is intended.\n",
      "WARNING:tensorflow:Large dropout rate: 0.6 (>0.5). In TensorFlow 2.x, dropout() uses dropout rate instead of keep_prob. Please ensure that this is intended.\n"
     ]
    }
   ],
   "source": [
    "path = \"allDataset_assembly/model-assmebly-2.hdf5\"\n",
    "m = load_model( path )"
   ]
  },
  {
   "cell_type": "code",
   "execution_count": 19,
   "metadata": {},
   "outputs": [
    {
     "name": "stdout",
     "output_type": "stream",
     "text": [
      "protein nr  513\n"
     ]
    }
   ],
   "source": [
    "from IPython.display import clear_output\n",
    "import random\n",
    "\n",
    "allValidWindows = []\n",
    "all_targets = []\n",
    "\n",
    "for i in range(cb513.shape[0]):\n",
    "    \n",
    "    print(\"protein nr \" ,i)\n",
    "    clear_output(wait=True)\n",
    "    \n",
    "    lastIndex = 700\n",
    "    #ground truth\n",
    "    for k in range(700):\n",
    "        ground_truth = cb513[i,k,22:30]\n",
    "        if(ground_truth.sum() == 0):\n",
    "            lastIndex = k\n",
    "            break\n",
    "        all_targets.append(ground_truth)\n",
    "\n",
    "    #creating padding version so we do not loose information\n",
    "    padded = np.zeros((700+18, 57))\n",
    "    padded[9:709] = cb513[i]\n",
    "    \n",
    "    for k in range(9):\n",
    "        #padded[8-k] = cb513[i, lastIndex - 1 - k]\n",
    "        padded[k] = cb513[i,0]#cb513[i,random.randint(0, lastIndex - 1)]#  #0# #\n",
    "    \n",
    "    nexta = 0\n",
    "    for k in range(lastIndex + 9 , lastIndex + 9 + 9):\n",
    "        #padded[k] = cb513[i, 0 + nexta]\n",
    "        nexta += 1\n",
    "        padded[k] = 0#cb513[i,lastIndex - 1]##cb513[i,random.randint(0, lastIndex - 1)]#c\n",
    "        \n",
    "    \n",
    "    #making predictions\n",
    "    predictions = []\n",
    "    for k in range(718 - 19 + 1):\n",
    "\n",
    "        if cb513[i,k,0:21].sum() == 0:\n",
    "            break\n",
    "        #make sure to check PSSM or 1 hot\n",
    "        window =  padded[k:k+19, 35:56]\n",
    "        allValidWindows.append(window)"
   ]
  },
  {
   "cell_type": "code",
   "execution_count": 6,
   "metadata": {},
   "outputs": [
    {
     "name": "stdout",
     "output_type": "stream",
     "text": [
      "84765/84765 [==============================] - 58s 687us/step\n",
      "Loss: 0.8752022515093971, Accuracy: 0.7006547451019287, MAE: 0.09288923442363739\n"
     ]
    }
   ],
   "source": [
    "scores = m.evaluate(np.array(allValidWindows), np.array(all_targets))\n",
    "print(\"Loss: \" + str(scores[0]) + \", Accuracy: \" + str(scores[1]) + \", MAE: \" + str(scores[2]))"
   ]
  },
  {
   "cell_type": "code",
   "execution_count": 5,
   "metadata": {},
   "outputs": [],
   "source": [
    "from sklearn.metrics import accuracy_score\n",
    "def get_accuracy(all_targets, all_pred ):\n",
    "    \n",
    "    all_targets = np.array(all_targets)\n",
    "\n",
    "    final_pred = []\n",
    "    final_target = []\n",
    "    for i in range(len(allValidWindows)):\n",
    "        final_pred.append( np.argmax(all_pred[i]))\n",
    "        final_target.append( np.argmax(all_targets[i]))\n",
    "        \n",
    "    res = accuracy_score(final_pred, np.array(final_target))     \n",
    "    print(res)\n",
    "    return res"
   ]
  },
  {
   "cell_type": "code",
   "execution_count": 6,
   "metadata": {},
   "outputs": [],
   "source": [
    "def sum_predictions(window_preds):\n",
    "    return sum(window_preds, 0)\n",
    "def average_predictions(window_preds):\n",
    "    return np.average(window_preds, 0)\n",
    "def max_predictions(window_preds):\n",
    "    return np.max(window_preds, 0)"
   ]
  },
  {
   "cell_type": "code",
   "execution_count": 11,
   "metadata": {},
   "outputs": [],
   "source": [
    "## model assembly cb513 accuracy\n",
    "def get_stacked_predictions(allValidWindows, nr_models):\n",
    "    \n",
    "    stacked_predictions = []\n",
    "\n",
    "    for i in range (0,nr_models):\n",
    "    \n",
    "        path = 'allDataset_assembly/model-assmebly-' + str(i) + '.hdf5'\n",
    "        m = load_model( path )\n",
    "        print(\"model \" , i)\n",
    "        predictions  = m.predict(allValidWindows, verbose = 1)\n",
    "        acc = get_accuracy(all_targets, np.array(predictions) )\n",
    "\n",
    "        stacked_predictions.append((predictions,acc))\n",
    "        \n",
    "    return stacked_predictions\n"
   ]
  },
  {
   "cell_type": "code",
   "execution_count": null,
   "metadata": {},
   "outputs": [],
   "source": [
    "nr_models = 16\n",
    "allValidWindows = np.array(allValidWindows)\n",
    "stacked_predictions = get_stacked_predictions(allValidWindows, nr_models)"
   ]
  },
  {
   "cell_type": "code",
   "execution_count": null,
   "metadata": {},
   "outputs": [],
   "source": [
    "##sorting the results descending of accuracy\n",
    "stacked_predictions.sort(key = lambda t: t[1])\n",
    "stacked_predictions.reverse()"
   ]
  },
  {
   "cell_type": "code",
   "execution_count": null,
   "metadata": {},
   "outputs": [],
   "source": [
    "import pickle\n",
    "#saving stacked predictins for further use\n",
    "with open('allDataset_assembly/stacked_predictions-20', 'wb') as file_pi:\n",
    "        pickle.dump(stacked_predictions, file_pi)       "
   ]
  },
  {
   "cell_type": "code",
   "execution_count": 9,
   "metadata": {},
   "outputs": [],
   "source": [
    "stacked_predictions = pickle.load( open( \"allDataset_assembly/stacked_predictions-20\", \"rb\" ) )\n",
    "stacked_predictions = np.array( [i[0] for i in stacked_predictions] )\n",
    "#print(stacked_predictions)"
   ]
  },
  {
   "cell_type": "code",
   "execution_count": 12,
   "metadata": {},
   "outputs": [],
   "source": [
    "def get_assembly_pred(stacked_predictions, models_picked):\n",
    "    \n",
    "    assembly_pred = []    \n",
    "    for i in range(stacked_predictions.shape[1]):\n",
    "        #print(\"window nr \" ,i)\n",
    "        #clear_output(wait=True)\n",
    "    \n",
    "        window_preds = stacked_predictions[models_picked,i]\n",
    "        window_pred = average_predictions(window_preds)\n",
    "        assembly_pred.append(window_pred)\n",
    "     \n",
    "    acc = get_accuracy(all_targets,  np.array(assembly_pred)  )\n",
    "    return acc"
   ]
  },
  {
   "cell_type": "code",
   "execution_count": 13,
   "metadata": {},
   "outputs": [
    {
     "name": "stdout",
     "output_type": "stream",
     "text": [
      "0.7006547513714387\n",
      "0.7006547513714387  ***\n",
      "0.705055152480387\n",
      "0.705055152480387  ***\n",
      "0.7072612516958651\n",
      "0.7072612516958651  ***\n",
      "0.7082758213885448\n",
      "0.7082758213885448  ***\n",
      "0.7080280776263788\n",
      "0.7081106588804341\n",
      "0.7082758213885448\n",
      "0.7086533356927978\n",
      "0.7086533356927978  ***\n",
      "0.7096797027074854\n",
      "0.7096797027074854  ***\n",
      "0.709974635757683\n",
      "0.709974635757683  ***\n",
      "0.7104465286379992\n",
      "0.7104465286379992  ***\n",
      "0.7104465286379992\n",
      "0.7105762991800861\n",
      "0.7105762991800861  ***\n",
      "0.7102695688078806\n",
      "0.7104937179260308\n",
      "0.7101397982657937\n",
      "0.7106470831121335\n",
      "0.7106470831121335  ***\n",
      "0.710222379519849\n",
      "0.7103049607739044\n",
      "0.7103757447059518\n"
     ]
    }
   ],
   "source": [
    "acc_progress = []\n",
    "models_picked = []\n",
    "maxAcc = 0\n",
    "\n",
    "final_indices = []\n",
    "\n",
    "for i in range(20):\n",
    "    \n",
    "    models_picked.append(i)\n",
    "    current = get_assembly_pred(stacked_predictions, models_picked)\n",
    "    if current > maxAcc:\n",
    "        maxAcc = current\n",
    "        print(maxAcc, \" ***\")\n",
    "        acc_progress.append(maxAcc)\n",
    "        \n",
    "        #saving the indices of the  models that hav been picked \n",
    "        final_indices = models_picked\n",
    "    else:\n",
    "        del models_picked[-1]\n",
    "    "
   ]
  },
  {
   "cell_type": "code",
   "execution_count": 15,
   "metadata": {},
   "outputs": [],
   "source": [
    "with open('allDataset_assembly/supervised-assembly-indices', 'wb') as file_pi:\n",
    "        pickle.dump(final_indices, file_pi)  "
   ]
  },
  {
   "cell_type": "code",
   "execution_count": null,
   "metadata": {},
   "outputs": [],
   "source": [
    "#0.7101751902318174\n",
    "fig1, ax1 = plt.subplots()\n",
    "fig1.set_size_inches(7,4)\n",
    "\n",
    "from matplotlib.ticker import MaxNLocator\n",
    "\n",
    "ax1.xaxis.set_major_locator(MaxNLocator(integer=True))\n",
    "\n",
    "\n",
    "\n",
    "ax1.tick_params(labelsize=18)\n",
    "ax1.set_ylabel(\"Q8 Accuracy on CB513\", fontsize=20, labelpad=25, weight='bold')\n",
    "ax1.set_xlabel(\"Number of models in assembly\",  fontsize=20, weight='bold')\n",
    "ax1.spines['right'].set_visible(False)\n",
    "ax1.spines['top'].set_visible(False)\n",
    "\n",
    "\n",
    "\n",
    "plt.plot([i for i in range(10)], acc_progress, linewidth =5)\n",
    "\n",
    "plt.plot( np.array(acc_progress).argmax(), max(acc_progress), color = 'red', marker='x',markersize=10 , label = \"Maximum Accuracy \" + str(max(acc_progress))[:6] )\n",
    "\n",
    "legend = ax1.legend(loc=0, fontsize='xx-large', fancybox=True)\n",
    "plt.savefig(\"perf assembly plot\", bbox_inches = 'tight')"
   ]
  },
  {
   "cell_type": "code",
   "execution_count": null,
   "metadata": {},
   "outputs": [],
   "source": [
    "# 0.707756739220197 - 4 models all dataset - average\n",
    "# 0.7093021884032324 - 12 models all dataset - average\n",
    "# 0.7042883265498732 - 2 models all dataset - average\n",
    "# 0.7093729723352798 - 16 models all dataset - average - with 30 epochs\n",
    "# 0.7095027428773668 - 16 models all dataset - average - with 75 epochs\n",
    "\n",
    "#0.707391022237952 -  15 models with valid split\n",
    "# 0.7066949802394856 - 4 models with valid split\n",
    "\n",
    "\n",
    "#0.7091842151831534 all 24"
   ]
  },
  {
   "cell_type": "code",
   "execution_count": null,
   "metadata": {},
   "outputs": [],
   "source": [
    "\n",
    "m1H1 = pickle.load( open( \"model-42f-hist-45epochs-0\", \"rb\" ) )\n",
    "# Plot training & validation accuracy values\n",
    "\n",
    "a = np.array(m1H1['val_acc'])\n",
    "inde = np.argmax(a)\n",
    "x = m1H1['val_acc'][inde]\n",
    "print(inde, \" \", x)\n",
    "\n",
    "\n",
    "plt.plot(m1H1['acc'])\n",
    "plt.plot(m1H1['val_acc'])\n"
   ]
  },
  {
   "cell_type": "code",
   "execution_count": null,
   "metadata": {},
   "outputs": [],
   "source": [
    "plt.plot(m1H1['loss'])\n",
    "plt.plot(m1H1['val_loss'])"
   ]
  },
  {
   "cell_type": "code",
   "execution_count": 29,
   "metadata": {},
   "outputs": [
    {
     "name": "stdout",
     "output_type": "stream",
     "text": [
      "30.0\n"
     ]
    },
    {
     "data": {
      "image/png": "[encoded data removed]",
      "text/plain": [
       "<Figure size 720x1080 with 1 Axes>"
      ]
     },
     "metadata": {},
     "output_type": "display_data"
    }
   ],
   "source": [
    "\n",
    "## displaying the distribution of the test set\n",
    "sizes = np.zeros(8)\n",
    "for i in range(cb513.shape[0]):\n",
    "    for j in range(cb513.shape[1]):\n",
    "        if cb513[i,j,22:30].sum() != 0:\n",
    "            index = cb513[i,j,22:30].argmax()\n",
    "            sizes[index] += 1\n",
    "        \n",
    "print(sizes[4])\n",
    "# Pie chart, where the slices will be ordered and plotted counter-clockwise:\n",
    "labels = 'L', 'B', 'E', 'G', 'I', 'H', 'S', 'T'\n",
    "explode = (0.1, 0.1, 0.1, 0.1, 0.3, 0.1,0.1, 0.1)  # only \"explode\" the 2nd slice (i.e. 'Hogs')\n",
    "\n",
    "fig1, ax1 = plt.subplots()\n",
    "fig1.set_size_inches(10,15)\n",
    "ax1.pie(sizes, explode=explode, labels=labels, autopct='%1.2f%%', startangle=90, pctdistance  = 0.7, textprops={'fontsize': 35})\n",
    "\n",
    "#plt.legend( prop={'size': 13})\n",
    "\n",
    "plt.savefig(\"cb513pie\", bbox_inches = 'tight',\n",
    "    pad_inches = 0)\n",
    "plt.show()"
   ]
  },
  {
   "cell_type": "code",
   "execution_count": null,
   "metadata": {},
   "outputs": [],
   "source": []
  }
 ],
 "metadata": {
  "kernelspec": {
   "display_name": "tf-gpu",
   "language": "python",
   "name": "tf-gpu"
  },
  "language_info": {
   "codemirror_mode": {
    "name": "ipython",
    "version": 3
   },
   "file_extension": ".py",
   "mimetype": "text/x-python",
   "name": "python",
   "nbconvert_exporter": "python",
   "pygments_lexer": "ipython3",
   "version": "3.7.6"
  }
 },
 "nbformat": 4,
 "nbformat_minor": 4
}
