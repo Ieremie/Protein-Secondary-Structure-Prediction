{
 "cells": [
  {
   "cell_type": "code",
   "execution_count": 1,
   "metadata": {},
   "outputs": [
    {
     "name": "stderr",
     "output_type": "stream",
     "text": [
      "Using TensorFlow backend.\n"
     ]
    }
   ],
   "source": [
    "import numpy as np\n",
    "import gzip\n",
    "import theano\n",
    "from keras.models import load_model\n",
    "from keras.models import Model\n",
    "import tensorflow as tf"
   ]
  },
  {
   "cell_type": "code",
   "execution_count": 2,
   "metadata": {},
   "outputs": [],
   "source": [
    "def get_test():\n",
    "    \n",
    "    f = open('datasetTranskay/cb513+profile_split1.npy.gz', 'rb')\n",
    "    cb513 = np.load(f)\n",
    "    cb513 = np.reshape(cb513, (514, 700, 57))\n",
    "    cb513 = cb513[:, :, :].astype(theano.config.floatX)\n",
    "\n",
    "    return cb513"
   ]
  },
  {
   "cell_type": "code",
   "execution_count": 3,
   "metadata": {},
   "outputs": [],
   "source": [
    "cb513 = get_test()"
   ]
  },
  {
   "cell_type": "code",
   "execution_count": null,
   "metadata": {},
   "outputs": [],
   "source": [
    "for i in range(700):\n",
    "    print(cb513[0,i,0:21])\n",
    "    print(cb513[0,i,22:30])\n",
    "    if(cb513[0,i,0:21].sum() == 0):\n",
    "        print(i)\n",
    "    if(cb513[0,i,22:30].sum() == 0):\n",
    "        print(i)        "
   ]
  },
  {
   "cell_type": "code",
   "execution_count": null,
   "metadata": {},
   "outputs": [],
   "source": [
    "path = \"model-assmebly-11.hdf5\"\n",
    "m = load_model( path )"
   ]
  },
  {
   "cell_type": "code",
   "execution_count": 4,
   "metadata": {},
   "outputs": [
    {
     "name": "stdout",
     "output_type": "stream",
     "text": [
      "protein nr  513\n"
     ]
    }
   ],
   "source": [
    "from IPython.display import clear_output\n",
    "import random\n",
    "\n",
    "allValidWindows = []\n",
    "all_targets = []\n",
    "\n",
    "for i in range(cb513.shape[0]):\n",
    "    \n",
    "    print(\"protein nr \" ,i)\n",
    "    clear_output(wait=True)\n",
    "    \n",
    "    lastIndex = 700\n",
    "    #ground truth\n",
    "    for k in range(700):\n",
    "        ground_truth = cb513[i,k,22:30]\n",
    "        if(ground_truth.sum() == 0):\n",
    "            lastIndex = k\n",
    "            break\n",
    "        all_targets.append(ground_truth)\n",
    "\n",
    "    #creating padding version so we do not loose information\n",
    "    padded = np.zeros((700+18, 57))\n",
    "    padded[9:709] = cb513[i]\n",
    "    \n",
    "    for k in range(9):\n",
    "        #padded[8-k] = cb513[i, lastIndex - 1 - k]\n",
    "        padded[k] = cb513[i,0]#cb513[i,random.randint(0, lastIndex - 1)]#  #0# #\n",
    "    \n",
    "    nexta = 0\n",
    "    for k in range(lastIndex + 9 , lastIndex + 9 + 9):\n",
    "        #padded[k] = 0# cb513[i, 0 + nexta]\n",
    "        nexta += 1\n",
    "        padded[k] = 0#cb513[i,random.randint(0, lastIndex - 1)]#cb513[i,lastIndex - 1]##\n",
    "        \n",
    "    \n",
    "    #making predictions\n",
    "    predictions = []\n",
    "    for k in range(718 - 19 + 1):\n",
    "\n",
    "        if cb513[i,k,0:21].sum() == 0:\n",
    "            break\n",
    "        #make sure to check PSSM or 1 hot\n",
    "        window =  padded[k:k+19, 35:56]\n",
    "        allValidWindows.append(window)"
   ]
  },
  {
   "cell_type": "code",
   "execution_count": null,
   "metadata": {},
   "outputs": [],
   "source": [
    "scores = m.evaluate(np.array(allValidWindows), np.array(all_targets))\n",
    "print(\"Loss: \" + str(scores[0]) + \", Accuracy: \" + str(scores[1]) + \", MAE: \" + str(scores[2]))"
   ]
  },
  {
   "cell_type": "code",
   "execution_count": null,
   "metadata": {},
   "outputs": [],
   "source": [
    "for i in range(718):\n",
    "    if i<9:\n",
    "        print(padded[i,0:21])\n",
    "    \n",
    "    if i >= 9 and i <= 708:\n",
    "        print(padded[i,0:21].all() == cb513[0,i-9,0:21].all())\n",
    "    \n",
    "    if i > 708:\n",
    "        print(padded[i,0:21])"
   ]
  },
  {
   "cell_type": "code",
   "execution_count": null,
   "metadata": {},
   "outputs": [],
   "source": [
    "print(len(allValidWindows))"
   ]
  },
  {
   "cell_type": "code",
   "execution_count": null,
   "metadata": {},
   "outputs": [],
   "source": [
    "x = np.array(allValidWindows)"
   ]
  },
  {
   "cell_type": "code",
   "execution_count": null,
   "metadata": {},
   "outputs": [],
   "source": [
    "for i in range(19):\n",
    "    print(x[66][i][0])"
   ]
  },
  {
   "cell_type": "code",
   "execution_count": 51,
   "metadata": {},
   "outputs": [
    {
     "name": "stdout",
     "output_type": "stream",
     "text": [
      "33   0.6996637763255874\n"
     ]
    },
    {
     "data": {
      "text/plain": [
       "[<matplotlib.lines.Line2D at 0x2242ebdd688>]"
      ]
     },
     "execution_count": 51,
     "metadata": {},
     "output_type": "execute_result"
    },
    {
     "data": {
      "image/png": "[encoded data removed]",
      "text/plain": [
       "<Figure size 432x288 with 1 Axes>"
      ]
     },
     "metadata": {
      "needs_background": "light"
     },
     "output_type": "display_data"
    }
   ],
   "source": [
    "import matplotlib.pyplot as plt\n",
    "import pickle\n",
    "\n",
    "m1H1 = pickle.load( open( \"saved-models/best-assmebly-history-5\", \"rb\" ) )\n",
    "# Plot training & validation accuracy values\n",
    "\n",
    "\n",
    "a = np.array(m1H1['val_acc'])\n",
    "inde = np.argmax(a)\n",
    "x = m1H1['val_acc'][inde]\n",
    "print(inde, \" \", x)\n",
    "\n",
    "\n",
    "plt.plot(m1H1['acc'])\n",
    "plt.plot(m1H1['val_acc'])\n"
   ]
  },
  {
   "cell_type": "code",
   "execution_count": 52,
   "metadata": {},
   "outputs": [
    {
     "data": {
      "text/plain": [
       "[<matplotlib.lines.Line2D at 0x2242e97dec8>]"
      ]
     },
     "execution_count": 52,
     "metadata": {},
     "output_type": "execute_result"
    },
    {
     "data": {
      "image/png": "[encoded data removed]",
      "text/plain": [
       "<Figure size 432x288 with 1 Axes>"
      ]
     },
     "metadata": {
      "needs_background": "light"
     },
     "output_type": "display_data"
    }
   ],
   "source": [
    "plt.plot(m1H1['loss'])\n",
    "plt.plot(m1H1['val_loss'])"
   ]
  },
  {
   "cell_type": "code",
   "execution_count": 19,
   "metadata": {},
   "outputs": [
    {
     "name": "stdout",
     "output_type": "stream",
     "text": [
      "model  0\n",
      "84765/84765 [==============================] - 50s 585us/step\n",
      "model  1\n",
      "84765/84765 [==============================] - 53s 620us/step\n",
      "model  2\n",
      "84765/84765 [==============================] - 51s 606us/step\n",
      "model  3\n",
      "84765/84765 [==============================] - 52s 609us/step\n",
      "model  4\n",
      "84765/84765 [==============================] - 51s 601us/step\n",
      "model  5\n",
      "84765/84765 [==============================] - 51s 602us/step\n",
      "model  6\n",
      "84765/84765 [==============================] - 52s 615us/step\n",
      "model  7\n",
      "84765/84765 [==============================] - 62s 734us/step\n",
      "model  8\n",
      "84765/84765 [==============================] - 67s 786us/step\n",
      "model  9\n",
      "84765/84765 [==============================] - 64s 752us/step\n"
     ]
    }
   ],
   "source": [
    "## model assembly cb513 accuracy\n",
    "def get_stacked_predictions(allValidWindows, nr_models):\n",
    "    \n",
    "    stacked_predictions = []\n",
    "    for i in range (nr_models):\n",
    "    \n",
    "        path = 'model-assmebly-' + str(i) + '.hdf5'\n",
    "        m = load_model( path )\n",
    "        print(\"model \" , i)\n",
    "        predictions  = m.predict(allValidWindows, verbose = 1)\n",
    "        stacked_predictions.append(predictions)\n",
    "    \n",
    "    return np.array(stacked_predictions)\n",
    "\n",
    "nr_models = 10\n",
    "stacked_predictions = get_stacked_predictions(allValidWindows, nr_models)"
   ]
  },
  {
   "cell_type": "code",
   "execution_count": 36,
   "metadata": {},
   "outputs": [],
   "source": [
    "def sum_predictions(window_preds):\n",
    "    return sum(window_preds, 0)\n",
    "def average_predictions(window_preds):\n",
    "    return np.average(window_preds, 0)\n",
    "def max_predictions(window_preds):\n",
    "    return np.max(window_preds, 0)"
   ]
  },
  {
   "cell_type": "code",
   "execution_count": 37,
   "metadata": {},
   "outputs": [
    {
     "name": "stdout",
     "output_type": "stream",
     "text": [
      "window nr  84764\n"
     ]
    }
   ],
   "source": [
    "assembly_pred = []    \n",
    "for i in range(allValidWindows.shape[0]):\n",
    "\n",
    "    print(\"window nr \" ,i)\n",
    "    clear_output(wait=True)\n",
    "    \n",
    "    window_preds = stacked_predictions[:,i]\n",
    "    window_pred = max_predictions(window_preds)\n",
    "    assembly_pred.append(window_pred)\n",
    "    \n",
    "assembly_pred = np.array(assembly_pred)    "
   ]
  },
  {
   "cell_type": "code",
   "execution_count": 38,
   "metadata": {},
   "outputs": [],
   "source": [
    "all_targets = np.array(all_targets)\n",
    "\n",
    "final_pred = []\n",
    "final_target = []\n",
    "for i in range(len(allValidWindows)):\n",
    "    final_pred.append( np.argmax(assembly_pred[i]))\n",
    "    final_target.append( np.argmax(all_targets[i]))"
   ]
  },
  {
   "cell_type": "code",
   "execution_count": 39,
   "metadata": {},
   "outputs": [
    {
     "data": {
      "text/plain": [
       "0.7070960891877544"
      ]
     },
     "execution_count": 39,
     "metadata": {},
     "output_type": "execute_result"
    }
   ],
   "source": [
    "from sklearn.metrics import accuracy_score\n",
    "\n",
    "accuracy_score(final_pred, np.array(final_target))"
   ]
  },
  {
   "cell_type": "code",
   "execution_count": 35,
   "metadata": {},
   "outputs": [
    {
     "name": "stdout",
     "output_type": "stream",
     "text": [
      "(2, 3)\n",
      "[5 6 7]\n"
     ]
    }
   ],
   "source": [
    "a = np.array([[5,2,3], [5,6,7]])\n",
    "print(a.shape)\n",
    "\n",
    "c = np.max(a, 0)\n",
    "print(c)"
   ]
  },
  {
   "cell_type": "code",
   "execution_count": null,
   "metadata": {},
   "outputs": [],
   "source": []
  }
 ],
 "metadata": {
  "kernelspec": {
   "display_name": "tf-gpu",
   "language": "python",
   "name": "tf-gpu"
  },
  "language_info": {
   "codemirror_mode": {
    "name": "ipython",
    "version": 3
   },
   "file_extension": ".py",
   "mimetype": "text/x-python",
   "name": "python",
   "nbconvert_exporter": "python",
   "pygments_lexer": "ipython3",
   "version": "3.7.6"
  }
 },
 "nbformat": 4,
 "nbformat_minor": 4
}
