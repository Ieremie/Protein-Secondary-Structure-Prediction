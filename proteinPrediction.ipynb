{
 "cells": [
  {
   "cell_type": "code",
   "execution_count": 1,
   "metadata": {},
   "outputs": [],
   "source": [
    "import numpy as np\n",
    "import os\n",
    "import subprocess\n",
    "import theano"
   ]
  },
  {
   "cell_type": "code",
   "execution_count": 2,
   "metadata": {},
   "outputs": [
    {
     "name": "stdout",
     "output_type": "stream",
     "text": [
      "[name: \"/device:CPU:0\"\n",
      "device_type: \"CPU\"\n",
      "memory_limit: 268435456\n",
      "locality {\n",
      "}\n",
      "incarnation: 11254009917538055173\n",
      ", name: \"/device:GPU:0\"\n",
      "device_type: \"GPU\"\n",
      "memory_limit: 1436473753\n",
      "locality {\n",
      "  bus_id: 1\n",
      "  links {\n",
      "  }\n",
      "}\n",
      "incarnation: 1438412614901041522\n",
      "physical_device_desc: \"device: 0, name: GeForce GTX 960M, pci bus id: 0000:01:00.0, compute capability: 5.0\"\n",
      "]\n"
     ]
    }
   ],
   "source": [
    "from tensorflow.python.client import device_lib\n",
    "print(device_lib.list_local_devices())"
   ]
  },
  {
   "cell_type": "code",
   "execution_count": null,
   "metadata": {},
   "outputs": [],
   "source": [
    "#!pip install --upgrade utils\n",
    "\n",
    "#import sys\n",
    "#!conda install --yes --prefix {sys.prefix} theano\n",
    "\n",
    "#import sys\n",
    "#!conda install --yes --prefix {sys.prefix} keras\n",
    "\n",
    "#import sys\n",
    "#!{sys.executable} -m pip install --upgrade keras\n",
    "\n",
    "#!pip uninstall keras\n",
    "#!pip install keras --upgrade\n",
    "\n",
    "# Current stable release for CPU and GPU\n",
    "#!pip install --upgrade tensorflow\n",
    "\n",
    "#import sys\n",
    "#!conda install --yes --prefix {sys.prefix} tensorflow-gpu\n",
    "\n",
    "#import sys\n",
    "#!conda install --yes --prefix {sys.prefix} scipy"
   ]
  },
  {
   "cell_type": "code",
   "execution_count": 2,
   "metadata": {},
   "outputs": [],
   "source": [
    "TRAIN_PATH = 'secondary_proteins_presubprocesson/data/cullpdb+profile_6133_filtered.npy.gz'\n",
    "TEST_PATH = 'secondary_proteins_prediction/data/cb513+profile_split1.npy.gz'"
   ]
  },
  {
   "cell_type": "code",
   "execution_count": 3,
   "metadata": {},
   "outputs": [],
   "source": [
    "def load_gz(path):  # load a .npy.gz file\n",
    "    if path.endswith(\".gz\"):\n",
    "        f = open(path, 'rb')\n",
    "        return np.load(f)\n",
    "    else:\n",
    "        return np.load(path)"
   ]
  },
  {
   "cell_type": "code",
   "execution_count": 4,
   "metadata": {},
   "outputs": [],
   "source": [
    "##### TRAIN DATA #####\n",
    "\n",
    "def get_train(path=TRAIN_PATH):\n",
    "    if not os.path.isfile(path):\n",
    "        print(\"Train path is not downloaded ...\")\n",
    "        subprocess.call(\"./download_train.sh\", shell=True)\n",
    "    else:\n",
    "        print(\"Train path is downloaded ...\")\n",
    "    print(\"Loading train data ...\")\n",
    "    X_in = load_gz(path)\n",
    "    X = np.reshape(X_in, (5534, 700, 57))\n",
    "    del X_in\n",
    "    X = X[:, :, :]\n",
    "    labels = X[:, :, 22:30]\n",
    "    mask = X[:, :, 30] * -1 + 1\n",
    "\n",
    "    a = np.arange(0, 21)\n",
    "    b = np.arange(35, 56)\n",
    "    c = np.hstack((a, b))\n",
    "  #  X = X[:, :, c]\n",
    "    \n",
    "    # getting meta\n",
    "    num_seqs = np.size(X, 0)\n",
    "    seqlen = np.size(X, 1)\n",
    "    d = np.size(X, 2)\n",
    "    num_classes = 8\n",
    "\n",
    "    #### REMAKING LABELS ####\n",
    "    X = X.astype(theano.config.floatX)\n",
    "    mask = mask.astype(theano.config.floatX)\n",
    "    # Dummy -> concat\n",
    "    vals = np.arange(0, 8)\n",
    "    labels_new = np.zeros((num_seqs, seqlen))\n",
    "    for i in range(np.size(labels, axis=0)):\n",
    "        labels_new[i, :] = np.dot(labels[i, :, :], vals)\n",
    "    labels_new = labels_new.astype('int32')\n",
    "    labels = labels_new\n",
    "    print(labels.shape)\n",
    "\n",
    "    print(\"Loading splits ...\")\n",
    "    ##### SPLITS #####\n",
    "    # getting splits (cannot run before splits are made)\n",
    "    # split = np.load(\"data/split.pkl\")\n",
    "\n",
    "    seq_names = np.arange(0, num_seqs)\n",
    "    # np.random.shuffle(seq_names)\n",
    "\n",
    "    X_train = X[seq_names[0:5278]]\n",
    "    X_valid = X[seq_names[5278:5534]]\n",
    "    labels_train = labels[seq_names[0:5278]]\n",
    "    labels_valid = labels[seq_names[5278:5534]]\n",
    "    mask_train = mask[seq_names[0:5278]]\n",
    "    mask_valid = mask[seq_names[5278:5534]]\n",
    "    num_seq_train = np.size(X_train, 0)\n",
    "    num_seq_valid = np.size(X_valid, 0)\n",
    "    return X_train, X_valid, labels_train, labels_valid, mask_train, \\\n",
    "           mask_valid, num_seq_train"
   ]
  },
  {
   "cell_type": "code",
   "execution_count": 5,
   "metadata": {},
   "outputs": [
    {
     "name": "stdout",
     "output_type": "stream",
     "text": [
      "Train path is downloaded ...\n",
      "Loading train data ...\n",
      "(5534, 700)\n",
      "Loading splits ...\n",
      "Done loading train\n",
      "(5278, 700, 57)\n"
     ]
    }
   ],
   "source": [
    "TRAIN_PATH = 'secondary_proteins_prediction/data/cullpdb+profile_6133_filtered.npy.gz'\n",
    "X_train, X_valid, labels_train, labels_valid, mask_train, mask_valid, _ = get_train(TRAIN_PATH)\n",
    "print(\"Done loading train\")\n",
    "print(X_train.shape)"
   ]
  },
  {
   "cell_type": "code",
   "execution_count": 6,
   "metadata": {},
   "outputs": [],
   "source": [
    "def get_test(path=TEST_PATH):\n",
    "    if not os.path.isfile(path):\n",
    "        subprocess.call(\"./download_test.sh\", shell=True)\n",
    "    print(\"Loading test data ...\")\n",
    "    X_test_in = load_gz(path)\n",
    "    X_test = np.reshape(X_test_in, (514, 700, 57))\n",
    "    del X_test_in\n",
    "    X_test = X_test[:, :, :].astype(theano.config.floatX)\n",
    "    labels_test = X_test[:, :, 22:30].astype('int32')\n",
    "    mask_test = X_test[:, :, 30].astype(theano.config.floatX) * -1 + 1\n",
    "\n",
    "    a = np.arange(0, 21)\n",
    "    b = np.arange(35, 56)\n",
    "    c = np.hstack((a, b))\n",
    "   #X_test = X_test[:, :, c]\n",
    "\n",
    "    # getting meta\n",
    "    seqlen = np.size(X_test, 1)\n",
    "    d = np.size(X_test, 2)\n",
    "    num_classes = 8\n",
    "    num_seq_test = np.size(X_test, 0)\n",
    "    del a, b, c\n",
    "\n",
    "    ## DUMMY -> CONCAT ##\n",
    "    vals = np.arange(0, 8)\n",
    "    labels_new = np.zeros((num_seq_test, seqlen))\n",
    "    for i in range(np.size(labels_test, axis=0)):\n",
    "        labels_new[i, :] = np.dot(labels_test[i, :, :], vals)\n",
    "    labels_new = labels_new.astype('int32')\n",
    "    labels_test = labels_new\n",
    "\n",
    "    ### ADDING BATCH PADDING ###\n",
    "\n",
    "    X_add = np.zeros((126, seqlen, d))\n",
    "    label_add = np.zeros((126, seqlen))\n",
    "    mask_add = np.zeros((126, seqlen))\n",
    "\n",
    "    X_test = np.concatenate((X_test, X_add), axis=0).astype(theano.config.floatX)\n",
    "    labels_test = np.concatenate((labels_test, label_add), axis=0).astype('int32')\n",
    "    mask_test = np.concatenate((mask_test, mask_add), axis=0).astype(theano.config.floatX)\n",
    "    return X_test, mask_test, labels_test, num_seq_test"
   ]
  },
  {
   "cell_type": "code",
   "execution_count": 7,
   "metadata": {},
   "outputs": [
    {
     "name": "stdout",
     "output_type": "stream",
     "text": [
      "Loading test data ...\n",
      "Done loading test\n",
      "(640, 700, 57)\n"
     ]
    }
   ],
   "source": [
    "TEST_PATH = 'secondary_proteins_prediction/data/cb513+profile_split1.npy.gz'\n",
    "X_test, mask_test, labels_test, num_seq_test = get_test(TEST_PATH)\n",
    "print(\"Done loading test\")\n",
    "print(X_test.shape)"
   ]
  },
  {
   "cell_type": "code",
   "execution_count": 8,
   "metadata": {},
   "outputs": [],
   "source": [
    "#To do: Make 1 hot encoded class - from Q8 to Q3\n",
    "       #Reshape the dataset so it has 700*windowSize seq that map to a class\n",
    "       #Look inside lasagne to see how we disregard the padding\n",
    "##\n",
    "\n",
    "def q8ClassToQ3(q8Labels):\n",
    "    \n",
    "    q3 = np.zeros(3)\n",
    "    index = np.argmax(q8Labels)\n",
    "    \n",
    "    #Helix\n",
    "    if index == 5 or index == 3 or index == 4 : # H ,G, I\n",
    "        q3[0] = 1   \n",
    "    #beta    \n",
    "    if index == 1 or index == 2: # B, E\n",
    "        q3[1] = 1    \n",
    "    #coil    \n",
    "    if index == 7 or index == 6 or index == 0 : # T, S, L\n",
    "        q3[2] = 1\n",
    "    return q3\n",
    "\n",
    "def q8ClassToQ2(q8Labels):\n",
    "    \n",
    "    q2 = np.zeros(2)\n",
    "    index = np.argmax(q8Labels)\n",
    " \n",
    "    #Helix\n",
    "    if index == 5: # or index == 3 or index == 4 : # H ,G, I\n",
    "        q2[0] = 1\n",
    "    else:\n",
    "        q2[1] = 1  \n",
    "    return q2\n",
    "\n",
    "def changeQ8Class(dataSet, reductionFunction, numberOfFeatures):\n",
    "\n",
    "    num_seqs = np.size(dataSet, 0)\n",
    "    seqlen = np.size(dataSet, 1)\n",
    "    labels_new = np.zeros((num_seqs, seqlen, numberOfFeatures))\n",
    "\n",
    "    for i in range(np.size(dataSet, axis=0)):\n",
    "        for j in range(np.size(dataSet, axis=1)):\n",
    "            oneHot = reductionFunction(dataSet[i, j, 22:30])\n",
    "            features = np.concatenate((dataSet[i, j, 0:21], oneHot), axis=None)\n",
    "            features = np.concatenate((features, dataSet[i, j, 35:56]), axis=None)\n",
    "            labels_new[i][j] = features\n",
    "    return labels_new\n"
   ]
  },
  {
   "cell_type": "code",
   "execution_count": 9,
   "metadata": {},
   "outputs": [],
   "source": [
    "def swapClassLabel(features, classLabel, classSize):\n",
    "\n",
    "    res = np.concatenate((features[0:21], classLabel), axis=None)\n",
    "    res = np.concatenate((res, features[ (21+classSize) :]), axis=None)\n",
    "  \n",
    "    return res"
   ]
  },
  {
   "cell_type": "code",
   "execution_count": 10,
   "metadata": {},
   "outputs": [],
   "source": [
    "import math\n",
    "\n",
    "#num_classes should be q8, q3 or maybe q2?\n",
    "def proteinSequenceToWindowSequence(windowSize, predictionIndex , dataSet, classSize):\n",
    "   \n",
    "    num_seqs = np.size(dataSet, 0)\n",
    "    seqlen = np.size(dataSet, 1)\n",
    "    features = np.size(dataSet, 2)\n",
    "    dataSet_new = np.zeros((num_seqs, seqlen - windowSize + 1, windowSize, features))\n",
    "    \n",
    "    for i in range(np.size(dataSet, axis=0)):\n",
    "        if i % 100 == 0:\n",
    "            print(i)\n",
    "        for j in range(np.size(dataSet, axis=1) - windowSize + 1):\n",
    "            classLabel = dataSet[i][j + predictionIndex][21 : (21+classSize) ]\n",
    "            for k in range(windowSize):\n",
    "                dataSet_new[i][j][k] = swapClassLabel(dataSet[i][j+k], classLabel, classSize)\n",
    "            \n",
    "    return dataSet_new    "
   ]
  },
  {
   "cell_type": "code",
   "execution_count": 11,
   "metadata": {},
   "outputs": [],
   "source": [
    "def removeWindowsWithPadding(dataSet, windowSize, numberOfFeatures):\n",
    "    \n",
    "    dataSet = np.reshape(dataSet, (dataSet.shape[0]*dataSet.shape[1], windowSize, numberOfFeatures))\n",
    "    dataSet = dataSet[np.count_nonzero( dataSet, axis=(1,2))>(int(windowSize/2)*numberOfFeatures), :, :] \n",
    "    \n",
    "    return dataSet"
   ]
  },
  {
   "cell_type": "code",
   "execution_count": 12,
   "metadata": {},
   "outputs": [],
   "source": [
    "windowSize = 19\n",
    "predictionIndex = 8\n",
    "classSize = 2  # 2 or 3 \n",
    "numberOfFeatures = 44"
   ]
  },
  {
   "cell_type": "code",
   "execution_count": 13,
   "metadata": {},
   "outputs": [
    {
     "name": "stdout",
     "output_type": "stream",
     "text": [
      "(5278, 700, 57)\n",
      "(5278, 700, 44) changed train data to class of size  2\n",
      "0\n",
      "100\n",
      "200\n",
      "300\n",
      "400\n",
      "500\n",
      "600\n",
      "700\n",
      "800\n",
      "900\n",
      "1000\n",
      "1100\n",
      "1200\n",
      "1300\n",
      "1400\n",
      "1500\n",
      "1600\n",
      "1700\n",
      "1800\n",
      "1900\n",
      "2000\n",
      "2100\n",
      "2200\n",
      "2300\n",
      "2400\n",
      "2500\n",
      "2600\n",
      "2700\n",
      "2800\n",
      "2900\n",
      "3000\n",
      "3100\n",
      "3200\n",
      "3300\n",
      "3400\n",
      "3500\n",
      "3600\n",
      "3700\n",
      "3800\n",
      "3900\n",
      "4000\n",
      "4100\n",
      "4200\n",
      "4300\n",
      "4400\n",
      "4500\n",
      "4600\n",
      "4700\n",
      "4800\n",
      "4900\n",
      "5000\n",
      "5100\n",
      "5200\n",
      "(5278, 682, 19, 44) changed train data  to window sequence of size  19\n",
      "(1040146, 19, 44) filtered windows withouth padding of train data \n",
      "(256, 700, 57)\n",
      "(256, 700, 44) changed validation data to class size  2\n",
      "0\n",
      "100\n",
      "200\n",
      "(256, 682, 19, 44) changed validation data to window sequence of size  19\n",
      "(49104, 19, 44) filtered windows withouth padding of validation data\n"
     ]
    }
   ],
   "source": [
    "print(X_train.shape)\n",
    "X_train = changeQ8Class(X_train, q8ClassToQ2, numberOfFeatures)\n",
    "print(X_train.shape, \"changed train data to class of size \", classSize)\n",
    "X_train_window = proteinSequenceToWindowSequence(windowSize,predictionIndex, X_train, classSize)\n",
    "print(X_train_window.shape, \"changed train data  to window sequence of size \", windowSize)\n",
    "X_train_window = removeWindowsWithPadding(X_train_window , windowSize, numberOfFeatures)\n",
    "print(X_train_window.shape, \"filtered windows withouth padding of train data \")\n",
    "\n",
    "print(X_valid.shape)\n",
    "X_valid = changeQ8Class(X_valid, q8ClassToQ2, numberOfFeatures)\n",
    "print(X_valid.shape, \"changed validation data to class size \", classSize)\n",
    "X_valid_window = proteinSequenceToWindowSequence(windowSize,predictionIndex, X_valid, classSize)\n",
    "print(X_valid_window.shape, \"changed validation data to window sequence of size \", windowSize)\n",
    "X_valid_window = removeWindowsWithPadding(X_valid_window , windowSize, numberOfFeatures)\n",
    "print(X_valid_window.shape, \"filtered windows withouth padding of validation data\")\n"
   ]
  },
  {
   "cell_type": "code",
   "execution_count": 14,
   "metadata": {},
   "outputs": [],
   "source": [
    "sequence_len = 700\n",
    "amino_acid_residues = 21\n",
    "num_classes = 2"
   ]
  },
  {
   "cell_type": "code",
   "execution_count": 15,
   "metadata": {},
   "outputs": [
    {
     "name": "stdout",
     "output_type": "stream",
     "text": [
      "(1040146, 19, 21) training data\n",
      "(1040146, 19, 2) labels for training data\n",
      "(49104, 19, 21) validation data\n",
      "(49104, 19, 2) labels for training validation\n"
     ]
    }
   ],
   "source": [
    "\n",
    "x_train_final = X_train_window[:,:,0:21]\n",
    "y_train_final = X_train_window[:,:,21 : (21+classSize)]\n",
    "print(x_train_final.shape, \"training data\")\n",
    "print(y_train_final.shape, \"labels for training data\")\n",
    "\n",
    "x_valid_final = X_valid_window[:,:,0:21]\n",
    "y_valid_final = X_valid_window[:,:,21 : (21+classSize)]\n",
    "print(x_valid_final.shape, \"validation data\")\n",
    "print(y_valid_final.shape, \"labels for training validation\")\n"
   ]
  },
  {
   "cell_type": "code",
   "execution_count": 16,
   "metadata": {},
   "outputs": [
    {
     "name": "stdout",
     "output_type": "stream",
     "text": [
      "\n",
      "Hyper Parameters\n",
      "\n",
      "Learning Rate: 0.0005\n",
      "Drop out: 0.3\n",
      "Batch dim: 64\n",
      "Number of epochs: 10\n",
      "\n",
      "Loss: categorical_crossentropy\n",
      "\n",
      "Model: \"sequential\"\n",
      "_________________________________________________________________\n",
      "Layer (type)                 Output Shape              Param #   \n",
      "=================================================================\n",
      "conv1d (Conv1D)              (None, 19, 128)           29696     \n",
      "_________________________________________________________________\n",
      "dropout (Dropout)            (None, 19, 128)           0         \n",
      "_________________________________________________________________\n",
      "conv1d_1 (Conv1D)            (None, 19, 64)            90176     \n",
      "_________________________________________________________________\n",
      "dropout_1 (Dropout)          (None, 19, 64)            0         \n",
      "_________________________________________________________________\n",
      "conv1d_2 (Conv1D)            (None, 19, 2)             1410      \n",
      "=================================================================\n",
      "Total params: 121,282\n",
      "Trainable params: 121,282\n",
      "Non-trainable params: 0\n",
      "_________________________________________________________________\n"
     ]
    }
   ],
   "source": [
    "from tensorflow.keras.models import Sequential\n",
    "from tensorflow.keras.layers import Dense, Activation, Dropout, Conv1D, AveragePooling1D, MaxPooling1D, TimeDistributed, LeakyReLU, BatchNormalization, Flatten\n",
    "from tensorflow.keras import optimizers, callbacks\n",
    "from tensorflow.keras.regularizers import l2\n",
    "\n",
    "LR = 0.0005\n",
    "drop_out = 0.3\n",
    "batch_dim = 64\n",
    "nn_epochs = 10\n",
    "\n",
    "loss = 'categorical_crossentropy'\n",
    "\n",
    "\n",
    "m = Sequential()\n",
    "m.add(Conv1D(128, 11, padding='same', activation='relu', input_shape=(windowSize, amino_acid_residues)))\n",
    "m.add(Dropout(drop_out))\n",
    "m.add(Conv1D(64, 11, padding='same', activation='relu'))\n",
    "m.add(Dropout(drop_out))\n",
    "m.add(Conv1D(num_classes, 11, padding='same', activation='softmax'))\n",
    "opt = optimizers.Adam(lr=LR)\n",
    "m.compile(optimizer=opt, loss=loss,metrics=['accuracy', 'mae'])\n",
    "\n",
    "print(\"\\nHyper Parameters\\n\")\n",
    "print(\"Learning Rate: \" + str(LR))\n",
    "print(\"Drop out: \" + str(drop_out))\n",
    "print(\"Batch dim: \" + str(batch_dim))\n",
    "print(\"Number of epochs: \" + str(nn_epochs))\n",
    "print(\"\\nLoss: \" + loss + \"\\n\")\n",
    "m.summary()"
   ]
  },
  {
   "cell_type": "code",
   "execution_count": 24,
   "metadata": {},
   "outputs": [],
   "source": [
    "LR = 0.0009 # maybe after some (10-15) epochs reduce it to 0.0008-0.0007\n",
    "drop_out = 0.38\n",
    "batch_dim = 64\n",
    "\n",
    "loss = 'categorical_crossentropy'\n",
    "\n",
    "m = Sequential()\n",
    "m.add(Conv1D(128, 5, padding='same', activation='relu', input_shape=(windowSize, amino_acid_residues)))\n",
    "m.add(BatchNormalization())\n",
    "m.add(Dropout(drop_out))\n",
    "m.add(Conv1D(128, 3, padding='same', activation='relu'))\n",
    "m.add(BatchNormalization())\n",
    "m.add(Dropout(drop_out))\n",
    "m.add(Conv1D(64, 3, padding='same', activation='relu'))\n",
    "m.add(BatchNormalization())\n",
    "m.add(Dropout(drop_out))\n",
    "#m.add(Flatten())\n",
    "m.add(Dense(128, activation='relu'))\n",
    "m.add(Dense(32, activation='relu'))\n",
    "m.add(Dense(num_classes, activation = 'softmax'))\n",
    "opt = optimizers.Adam(lr=LR)\n",
    "m.compile(optimizer=opt,\n",
    "          loss=loss,\n",
    "          metrics=['accuracy', 'mae'])"
   ]
  },
  {
   "cell_type": "code",
   "execution_count": 17,
   "metadata": {},
   "outputs": [
    {
     "name": "stdout",
     "output_type": "stream",
     "text": [
      "Train on 1040146 samples, validate on 49104 samples\n",
      "Epoch 1/10\n",
      "1040146/1040146 [==============================] - 112s 107us/sample - loss: 0.4086 - accuracy: 0.8148 - mae: 0.2613 - val_loss: 0.3870 - val_accuracy: 0.8267 - val_mae: 0.2548\n",
      "Epoch 2/10\n",
      "1040146/1040146 [==============================] - 217s 209us/sample - loss: 0.3733 - accuracy: 0.8343 - mae: 0.2355 - val_loss: 0.3848 - val_accuracy: 0.8303 - val_mae: 0.2426\n",
      "Epoch 3/10\n",
      "1040146/1040146 [==============================] - 296s 284us/sample - loss: 0.3595 - accuracy: 0.8416 - mae: 0.2260 - val_loss: 0.3872 - val_accuracy: 0.8294 - val_mae: 0.2343\n",
      "Epoch 4/10\n",
      "1040146/1040146 [==============================] - 221s 213us/sample - loss: 0.3504 - accuracy: 0.8459 - mae: 0.2198 - val_loss: 0.3922 - val_accuracy: 0.8261 - val_mae: 0.2452\n",
      "Epoch 5/10\n",
      "1040146/1040146 [==============================] - 214s 206us/sample - loss: 0.3440 - accuracy: 0.8492 - mae: 0.2155 - val_loss: 0.3896 - val_accuracy: 0.8276 - val_mae: 0.2394\n",
      "Epoch 6/10\n",
      "1040146/1040146 [==============================] - 298s 287us/sample - loss: 0.3392 - accuracy: 0.8517 - mae: 0.2123 - val_loss: 0.3970 - val_accuracy: 0.8235 - val_mae: 0.2472cy: 0.851 - ETA: 14s - loss: 0.3393 - accuracy: 0.8516 - mae:  - ETA: 13s - loss: 0.3393 - accuracy: 0.8516 - mae: 0.2 - ETA: 1 - ETA:  - ETA: 5s - - ETA: 4s - loss: 0.3393 - accuracy: 0.85 - ETA: 4s - loss: 0.339 - ETA: 1s - loss: 0.3392 - ac - ETA: 0s - loss: 0.3392 \n",
      "Epoch 7/10\n",
      "1040146/1040146 [==============================] - 316s 304us/sample - loss: 0.3350 - accuracy: 0.8535 - mae: 0.2096 - val_loss: 0.3945 - val_accuracy: 0.8254 - val_mae: 0.24265 - mae: - ETA: 24s - loss: 0.3350 - accuracy: 0.8 - ETA: 20s - loss: 0.3350 - accuracy: 0.8535 - mae: 0. - ETA: 20s - los - ETA: 17s - loss: 0.3349 -  - ETA: 15s - loss: 0. -  - ETA:  - E\n",
      "Epoch 8/10\n",
      "1040146/1040146 [==============================] - 227s 218us/sample - loss: 0.3316 - accuracy: 0.8553 - mae: 0.2073 - val_loss: 0.3969 - val_accuracy: 0.8247 - val_mae: 0.2413\n",
      "Epoch 9/10\n",
      "1040146/1040146 [==============================] - 178s 171us/sample - loss: 0.3289 - accuracy: 0.8565 - mae: 0.2055 - val_loss: 0.3945 - val_accuracy: 0.8241 - val_mae: 0.2429\n",
      "Epoch 10/10\n",
      "1040146/1040146 [==============================] - 180s 173us/sample - loss: 0.3262 - accuracy: 0.8579 - mae: 0.2037 - val_loss: 0.3986 - val_accuracy: 0.8231 - val_mae: 0.2393\n",
      "\n",
      "\n",
      "Time elapsed: 2264.36 s\n"
     ]
    }
   ],
   "source": [
    "from time import time\n",
    "from timeit import default_timer as timer\n",
    "\n",
    "start_time = timer()\n",
    "history = m.fit(x_train_final, y_train_final, epochs=nn_epochs, batch_size=batch_dim, validation_data=(x_valid_final, y_valid_final) ,shuffle=True)\n",
    "\n",
    "end_time = timer()\n",
    "print(\"\\n\\nTime elapsed: \" + \"{0:.2f}\".format((end_time - start_time)) + \" s\")"
   ]
  },
  {
   "cell_type": "code",
   "execution_count": 18,
   "metadata": {},
   "outputs": [
    {
     "data": {
      "image/png": "[encoded data removed]",
      "text/plain": [
       "<Figure size 432x288 with 1 Axes>"
      ]
     },
     "metadata": {
      "needs_background": "light"
     },
     "output_type": "display_data"
    },
    {
     "data": {
      "image/png": "[encoded data removed]",
      "text/plain": [
       "<Figure size 432x288 with 1 Axes>"
      ]
     },
     "metadata": {
      "needs_background": "light"
     },
     "output_type": "display_data"
    }
   ],
   "source": [
    "import matplotlib.pyplot as plt\n",
    "\n",
    "accuracyName = 'accuracyMiddleQ2W19Real.png'\n",
    "lossName = 'lossMiddleQ2W19Real.png'\n",
    "\n",
    "# Plot training & validation accuracy values\n",
    "plt.plot(history.history['accuracy'])\n",
    "plt.plot(history.history['val_accuracy'])\n",
    "plt.title('Model accuracy')\n",
    "plt.ylabel('Accuracy')\n",
    "plt.xlabel('Epoch')\n",
    "plt.legend(['Train', 'Validation'], loc='upper left')\n",
    "plt.savefig(accuracyName)\n",
    "plt.show()\n",
    "\n",
    "\n",
    "# Plot training & validation loss values\n",
    "plt.plot(history.history['loss'])\n",
    "plt.plot(history.history['val_loss'])\n",
    "plt.title('Model loss')\n",
    "plt.ylabel('Loss')\n",
    "plt.xlabel('Epoch')\n",
    "plt.legend(['Train', 'Validation'], loc='upper left')\n",
    "plt.savefig(lossName)\n",
    "plt.show()\n",
    "\n",
    "\n"
   ]
  },
  {
   "cell_type": "code",
   "execution_count": 19,
   "metadata": {},
   "outputs": [
    {
     "ename": "TypeError",
     "evalue": "can't pickle _thread.RLock objects",
     "output_type": "error",
     "traceback": [
      "\u001b[1;31m---------------------------------------------------------------------------\u001b[0m",
      "\u001b[1;31mTypeError\u001b[0m                                 Traceback (most recent call last)",
      "\u001b[1;32m<ipython-input-19-66f8f98a884e>\u001b[0m in \u001b[0;36m<module>\u001b[1;34m\u001b[0m\n\u001b[0;32m      6\u001b[0m \u001b[1;33m\u001b[0m\u001b[0m\n\u001b[0;32m      7\u001b[0m \u001b[0mpickle_out\u001b[0m \u001b[1;33m=\u001b[0m \u001b[0mopen\u001b[0m\u001b[1;33m(\u001b[0m\u001b[0mpickleName\u001b[0m\u001b[1;33m,\u001b[0m\u001b[1;34m\"wb\"\u001b[0m\u001b[1;33m)\u001b[0m\u001b[1;33m\u001b[0m\u001b[1;33m\u001b[0m\u001b[0m\n\u001b[1;32m----> 8\u001b[1;33m \u001b[0mpickle\u001b[0m\u001b[1;33m.\u001b[0m\u001b[0mdump\u001b[0m\u001b[1;33m(\u001b[0m\u001b[0mhistory\u001b[0m\u001b[1;33m,\u001b[0m \u001b[0mpickle_out\u001b[0m\u001b[1;33m)\u001b[0m\u001b[1;33m\u001b[0m\u001b[1;33m\u001b[0m\u001b[0m\n\u001b[0m\u001b[0;32m      9\u001b[0m \u001b[0mpickle_out\u001b[0m\u001b[1;33m.\u001b[0m\u001b[0mclose\u001b[0m\u001b[1;33m(\u001b[0m\u001b[1;33m)\u001b[0m\u001b[1;33m\u001b[0m\u001b[1;33m\u001b[0m\u001b[0m\n\u001b[0;32m     10\u001b[0m \u001b[1;33m\u001b[0m\u001b[0m\n",
      "\u001b[1;31mTypeError\u001b[0m: can't pickle _thread.RLock objects"
     ]
    }
   ],
   "source": [
    "import pickle\n",
    "\n",
    "\n",
    "pickleName = \"Q2Window19MMiddleReal.pickle\"\n",
    "pkl_filename = \"Q2Window19MiddleReal.pkl\"\n",
    "\n",
    "pickle_out = open(pickleName,\"wb\")\n",
    "pickle.dump(history, pickle_out)\n",
    "pickle_out.close()\n",
    "\n",
    "\n",
    "with open(pkl_filename, 'wb') as file:\n",
    "    pickle.dump(m, file)"
   ]
  },
  {
   "cell_type": "code",
   "execution_count": 26,
   "metadata": {},
   "outputs": [
    {
     "ename": "TypeError",
     "evalue": "can't pickle _thread.RLock objects",
     "output_type": "error",
     "traceback": [
      "\u001b[1;31m---------------------------------------------------------------------------\u001b[0m",
      "\u001b[1;31mTypeError\u001b[0m                                 Traceback (most recent call last)",
      "\u001b[1;32m<ipython-input-26-dae616243acc>\u001b[0m in \u001b[0;36m<module>\u001b[1;34m\u001b[0m\n\u001b[0;32m      4\u001b[0m \u001b[0mpkl_filename\u001b[0m \u001b[1;33m=\u001b[0m \u001b[1;34m\"Q2Window19MLeft.pkl\"\u001b[0m\u001b[1;33m\u001b[0m\u001b[1;33m\u001b[0m\u001b[0m\n\u001b[0;32m      5\u001b[0m \u001b[1;32mwith\u001b[0m \u001b[0mopen\u001b[0m\u001b[1;33m(\u001b[0m\u001b[0mpkl_filename\u001b[0m\u001b[1;33m,\u001b[0m \u001b[1;34m'wb'\u001b[0m\u001b[1;33m)\u001b[0m \u001b[1;32mas\u001b[0m \u001b[0mfile\u001b[0m\u001b[1;33m:\u001b[0m\u001b[1;33m\u001b[0m\u001b[1;33m\u001b[0m\u001b[0m\n\u001b[1;32m----> 6\u001b[1;33m     \u001b[0mpickle\u001b[0m\u001b[1;33m.\u001b[0m\u001b[0mdump\u001b[0m\u001b[1;33m(\u001b[0m\u001b[0mm\u001b[0m\u001b[1;33m,\u001b[0m \u001b[0mfile\u001b[0m\u001b[1;33m)\u001b[0m\u001b[1;33m\u001b[0m\u001b[1;33m\u001b[0m\u001b[0m\n\u001b[0m",
      "\u001b[1;31mTypeError\u001b[0m: can't pickle _thread.RLock objects"
     ]
    }
   ],
   "source": [
    "import pickle\n",
    "\n",
    "# Save to file in the current working directory\n",
    "pkl_filename = \"Q2Window19MLeft.pkl\"\n",
    "with open(pkl_filename, 'wb') as file:\n",
    "    pickle.dump(m, file)"
   ]
  },
  {
   "cell_type": "code",
   "execution_count": 20,
   "metadata": {},
   "outputs": [
    {
     "name": "stdout",
     "output_type": "stream",
     "text": [
      "0\n",
      "100\n",
      "200\n",
      "300\n",
      "400\n",
      "500\n",
      "600\n",
      "(1040146, 19, 44)\n",
      "(76025, 19, 21)\n",
      "(76025, 19, 2)\n"
     ]
    }
   ],
   "source": [
    "X_test = changeQ8Class(X_test, q8ClassToQ2, numberOfFeatures)\n",
    "X_test_window = proteinSequenceToWindowSequence(windowSize,predictionIndex, X_test, classSize)\n",
    "X_test_window = removeWindowsWithPadding(X_test_window , windowSize, numberOfFeatures)\n",
    "print(X_train_window.shape)\n",
    "\n",
    "x_test_final = X_test_window[:,:,0:21]\n",
    "y_test_final = X_test_window[:,:,21: (21+classSize)]\n",
    "print(x_test_final.shape)\n",
    "print(y_test_final.shape)"
   ]
  },
  {
   "cell_type": "code",
   "execution_count": 21,
   "metadata": {},
   "outputs": [
    {
     "name": "stdout",
     "output_type": "stream",
     "text": [
      "76025/76025 [==============================] - 8s 107us/sample - loss: 0.4027 - accuracy: 0.8260 - mae: 0.2350\n",
      "Loss: 0.40266306587893963, Accuracy: 0.82595617, MAE: 0.23504974\n"
     ]
    }
   ],
   "source": [
    "scores = m.evaluate(x_test_final, y_test_final)\n",
    "print(\"Loss: \" + str(scores[0]) + \", Accuracy: \" + str(scores[1]) + \", MAE: \" + str(scores[2]))"
   ]
  },
  {
   "cell_type": "code",
   "execution_count": 26,
   "metadata": {},
   "outputs": [
    {
     "name": "stdout",
     "output_type": "stream",
     "text": [
      "{'loss': [0.44966836823821205, 0.4156959092493396, 0.4030285179907845, 0.3947629566897908, 0.3889579159463983, 0.3844384876298406, 0.38121293385527116, 0.377806609109231, 0.3749496356954386, 0.37330466704874077], 'accuracy': [0.79195476, 0.81217813, 0.8187889, 0.82314277, 0.8261819, 0.82849085, 0.8299985, 0.8320786, 0.8331986, 0.83413166], 'mae': [0.29131523, 0.26585072, 0.25682375, 0.25105166, 0.24702397, 0.2439069, 0.24171908, 0.2393979, 0.23750165, 0.23633783], 'val_loss': [0.42621516084566147, 0.42289021183940245, 0.422474003301338, 0.42457270685858894, 0.4259774775361735, 0.42797773185014026, 0.4266078387459624, 0.4328603748682463, 0.4322029887590862, 0.43447310772945064], 'val_accuracy': [0.8056156, 0.8059125, 0.80789965, 0.806964, 0.8056692, 0.8068986, 0.80714935, 0.8028684, 0.8046917, 0.80294883], 'val_mae': [0.2793607, 0.27205122, 0.27998343, 0.27230123, 0.27273822, 0.27139467, 0.27769068, 0.2710833, 0.26690817, 0.2731029]}\n"
     ]
    }
   ],
   "source": [
    "print(history.history)"
   ]
  }
 ],
 "metadata": {
  "kernelspec": {
   "display_name": "tf-gpu",
   "language": "python",
   "name": "tf-gpu"
  },
  "language_info": {
   "codemirror_mode": {
    "name": "ipython",
    "version": 3
   },
   "file_extension": ".py",
   "mimetype": "text/x-python",
   "name": "python",
   "nbconvert_exporter": "python",
   "pygments_lexer": "ipython3",
   "version": "3.7.6"
  }
 },
 "nbformat": 4,
 "nbformat_minor": 4
}
